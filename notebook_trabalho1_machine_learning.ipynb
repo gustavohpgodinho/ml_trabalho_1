{
  "nbformat": 4,
  "nbformat_minor": 0,
  "metadata": {
    "colab": {
      "name": "trabalho1_machine_learning.ipynb",
      "provenance": [],
      "collapsed_sections": []
    },
    "kernelspec": {
      "display_name": "Python 3",
      "name": "python3"
    },
    "language_info": {
      "name": "python"
    }
  },
  "cells": [
    {
      "cell_type": "markdown",
      "metadata": {
        "id": "dt8v3vKqRy1x"
      },
      "source": [
        "# **Trabalho 1. Disciplina: Aprendizado de Máquina**\n",
        "#### **Pós-graduação em Ciência da Computação. DCC - UFMG**\n",
        "#### **Aluno:** Gustavo Henrique Pereira Godinho\n",
        "______________________________________________________\n",
        "\n",
        "Importando ao ambiente os módulos necessários para a execução dos algoritmos:\n"
      ]
    },
    {
      "cell_type": "code",
      "metadata": {
        "id": "JJ5V1nEqD3y5"
      },
      "source": [
        "import pandas as pd\n",
        "import matplotlib.pyplot as plt\n",
        "import numpy as np\n",
        "from sklearn import metrics\n",
        "from sklearn.naive_bayes import GaussianNB\n",
        "from sklearn.tree import DecisionTreeClassifier\n",
        "from sklearn.neighbors import KNeighborsClassifier\n",
        "from sklearn.svm import SVC\n",
        "from sklearn.ensemble import RandomForestClassifier, GradientBoostingClassifier\n",
        "from sklearn.model_selection import GridSearchCV, StratifiedKFold\n",
        "from sklearn.preprocessing import StandardScaler\n",
        "from sklearn.pipeline import Pipeline"
      ],
      "execution_count": 1,
      "outputs": []
    },
    {
      "cell_type": "markdown",
      "metadata": {
        "id": "r9WMZSkRh1vW"
      },
      "source": [
        "Realizando a leitura dos dados através do módulo *pandas*. O conjunto de dados possui cerca de 5200 observações de candidatos a exoplanetas observados pela sonda *Kepler* da NASA. Como a coluna *kepoi_name* apenas identifica o exoplaneta, usarei ela como index do conjunto de dados."
      ]
    },
    {
      "cell_type": "code",
      "metadata": {
        "colab": {
          "base_uri": "https://localhost:8080/",
          "height": 255
        },
        "id": "P-pRMaXRD9_s",
        "outputId": "5658030d-19f1-49c6-f556-9f6b77da7f7e"
      },
      "source": [
        "koi_data = pd.read_csv('https://raw.githubusercontent.com/gustavohpgodinho/ml_trabalho_1/main/koi_data.csv').set_index('kepoi_name')\n",
        "koi_data.head()"
      ],
      "execution_count": 2,
      "outputs": [
        {
          "output_type": "execute_result",
          "data": {
            "text/html": [
              "<div>\n",
              "<style scoped>\n",
              "    .dataframe tbody tr th:only-of-type {\n",
              "        vertical-align: middle;\n",
              "    }\n",
              "\n",
              "    .dataframe tbody tr th {\n",
              "        vertical-align: top;\n",
              "    }\n",
              "\n",
              "    .dataframe thead th {\n",
              "        text-align: right;\n",
              "    }\n",
              "</style>\n",
              "<table border=\"1\" class=\"dataframe\">\n",
              "  <thead>\n",
              "    <tr style=\"text-align: right;\">\n",
              "      <th></th>\n",
              "      <th>koi_disposition</th>\n",
              "      <th>koi_period</th>\n",
              "      <th>koi_impact</th>\n",
              "      <th>koi_duration</th>\n",
              "      <th>koi_depth</th>\n",
              "      <th>koi_ror</th>\n",
              "      <th>koi_srho</th>\n",
              "      <th>koi_prad</th>\n",
              "      <th>koi_sma</th>\n",
              "      <th>koi_incl</th>\n",
              "      <th>koi_teq</th>\n",
              "      <th>koi_insol</th>\n",
              "      <th>koi_dor</th>\n",
              "      <th>koi_max_sngle_ev</th>\n",
              "      <th>koi_max_mult_ev</th>\n",
              "      <th>koi_model_snr</th>\n",
              "      <th>koi_steff</th>\n",
              "      <th>koi_slogg</th>\n",
              "      <th>koi_smet</th>\n",
              "      <th>koi_srad</th>\n",
              "      <th>koi_smass</th>\n",
              "      <th>koi_kepmag</th>\n",
              "      <th>koi_gmag</th>\n",
              "      <th>koi_rmag</th>\n",
              "      <th>koi_imag</th>\n",
              "      <th>koi_zmag</th>\n",
              "      <th>koi_jmag</th>\n",
              "      <th>koi_hmag</th>\n",
              "      <th>koi_kmag</th>\n",
              "      <th>koi_fwm_stat_sig</th>\n",
              "      <th>koi_fwm_sra</th>\n",
              "      <th>koi_fwm_sdec</th>\n",
              "      <th>koi_fwm_srao</th>\n",
              "      <th>koi_fwm_sdeco</th>\n",
              "      <th>koi_fwm_prao</th>\n",
              "      <th>koi_fwm_pdeco</th>\n",
              "      <th>koi_dicco_mra</th>\n",
              "      <th>koi_dicco_mdec</th>\n",
              "      <th>koi_dicco_msky</th>\n",
              "      <th>koi_dikco_mra</th>\n",
              "      <th>koi_dikco_mdec</th>\n",
              "      <th>koi_dikco_msky</th>\n",
              "    </tr>\n",
              "    <tr>\n",
              "      <th>kepoi_name</th>\n",
              "      <th></th>\n",
              "      <th></th>\n",
              "      <th></th>\n",
              "      <th></th>\n",
              "      <th></th>\n",
              "      <th></th>\n",
              "      <th></th>\n",
              "      <th></th>\n",
              "      <th></th>\n",
              "      <th></th>\n",
              "      <th></th>\n",
              "      <th></th>\n",
              "      <th></th>\n",
              "      <th></th>\n",
              "      <th></th>\n",
              "      <th></th>\n",
              "      <th></th>\n",
              "      <th></th>\n",
              "      <th></th>\n",
              "      <th></th>\n",
              "      <th></th>\n",
              "      <th></th>\n",
              "      <th></th>\n",
              "      <th></th>\n",
              "      <th></th>\n",
              "      <th></th>\n",
              "      <th></th>\n",
              "      <th></th>\n",
              "      <th></th>\n",
              "      <th></th>\n",
              "      <th></th>\n",
              "      <th></th>\n",
              "      <th></th>\n",
              "      <th></th>\n",
              "      <th></th>\n",
              "      <th></th>\n",
              "      <th></th>\n",
              "      <th></th>\n",
              "      <th></th>\n",
              "      <th></th>\n",
              "      <th></th>\n",
              "      <th></th>\n",
              "    </tr>\n",
              "  </thead>\n",
              "  <tbody>\n",
              "    <tr>\n",
              "      <th>K00752.01</th>\n",
              "      <td>CONFIRMED</td>\n",
              "      <td>9.48804</td>\n",
              "      <td>0.146</td>\n",
              "      <td>2.95750</td>\n",
              "      <td>615.8</td>\n",
              "      <td>0.02234</td>\n",
              "      <td>3.20796</td>\n",
              "      <td>2.26</td>\n",
              "      <td>0.0853</td>\n",
              "      <td>89.66</td>\n",
              "      <td>793.0</td>\n",
              "      <td>93.59</td>\n",
              "      <td>24.810</td>\n",
              "      <td>5.13585</td>\n",
              "      <td>28.47082</td>\n",
              "      <td>35.8</td>\n",
              "      <td>5455.0</td>\n",
              "      <td>4.467</td>\n",
              "      <td>0.14</td>\n",
              "      <td>0.927</td>\n",
              "      <td>0.919</td>\n",
              "      <td>15.347</td>\n",
              "      <td>15.890</td>\n",
              "      <td>15.270</td>\n",
              "      <td>15.114</td>\n",
              "      <td>15.006</td>\n",
              "      <td>14.082</td>\n",
              "      <td>13.751</td>\n",
              "      <td>13.648</td>\n",
              "      <td>0.002</td>\n",
              "      <td>19.46229</td>\n",
              "      <td>48.14191</td>\n",
              "      <td>0.430</td>\n",
              "      <td>0.940</td>\n",
              "      <td>-0.00020</td>\n",
              "      <td>-0.00055</td>\n",
              "      <td>-0.010</td>\n",
              "      <td>0.200</td>\n",
              "      <td>0.200</td>\n",
              "      <td>0.080</td>\n",
              "      <td>0.310</td>\n",
              "      <td>0.320</td>\n",
              "    </tr>\n",
              "    <tr>\n",
              "      <th>K00752.02</th>\n",
              "      <td>CONFIRMED</td>\n",
              "      <td>54.41838</td>\n",
              "      <td>0.586</td>\n",
              "      <td>4.50700</td>\n",
              "      <td>874.8</td>\n",
              "      <td>0.02795</td>\n",
              "      <td>3.02368</td>\n",
              "      <td>2.83</td>\n",
              "      <td>0.2734</td>\n",
              "      <td>89.57</td>\n",
              "      <td>443.0</td>\n",
              "      <td>9.11</td>\n",
              "      <td>77.900</td>\n",
              "      <td>7.02767</td>\n",
              "      <td>20.10951</td>\n",
              "      <td>25.8</td>\n",
              "      <td>5455.0</td>\n",
              "      <td>4.467</td>\n",
              "      <td>0.14</td>\n",
              "      <td>0.927</td>\n",
              "      <td>0.919</td>\n",
              "      <td>15.347</td>\n",
              "      <td>15.890</td>\n",
              "      <td>15.270</td>\n",
              "      <td>15.114</td>\n",
              "      <td>15.006</td>\n",
              "      <td>14.082</td>\n",
              "      <td>13.751</td>\n",
              "      <td>13.648</td>\n",
              "      <td>0.003</td>\n",
              "      <td>19.46226</td>\n",
              "      <td>48.14199</td>\n",
              "      <td>-0.630</td>\n",
              "      <td>1.230</td>\n",
              "      <td>0.00066</td>\n",
              "      <td>-0.00105</td>\n",
              "      <td>0.390</td>\n",
              "      <td>0.000</td>\n",
              "      <td>0.390</td>\n",
              "      <td>0.490</td>\n",
              "      <td>0.120</td>\n",
              "      <td>0.500</td>\n",
              "    </tr>\n",
              "    <tr>\n",
              "      <th>K00754.01</th>\n",
              "      <td>FALSE POSITIVE</td>\n",
              "      <td>1.73695</td>\n",
              "      <td>1.276</td>\n",
              "      <td>2.40641</td>\n",
              "      <td>8079.2</td>\n",
              "      <td>0.38739</td>\n",
              "      <td>0.22080</td>\n",
              "      <td>33.46</td>\n",
              "      <td>0.0267</td>\n",
              "      <td>67.09</td>\n",
              "      <td>1395.0</td>\n",
              "      <td>891.96</td>\n",
              "      <td>3.278</td>\n",
              "      <td>39.06655</td>\n",
              "      <td>541.89510</td>\n",
              "      <td>505.6</td>\n",
              "      <td>5805.0</td>\n",
              "      <td>4.564</td>\n",
              "      <td>-0.52</td>\n",
              "      <td>0.791</td>\n",
              "      <td>0.836</td>\n",
              "      <td>15.597</td>\n",
              "      <td>16.100</td>\n",
              "      <td>15.554</td>\n",
              "      <td>15.382</td>\n",
              "      <td>15.266</td>\n",
              "      <td>14.326</td>\n",
              "      <td>13.911</td>\n",
              "      <td>13.809</td>\n",
              "      <td>0.000</td>\n",
              "      <td>19.03564</td>\n",
              "      <td>48.28521</td>\n",
              "      <td>-0.111</td>\n",
              "      <td>0.002</td>\n",
              "      <td>0.00302</td>\n",
              "      <td>-0.00142</td>\n",
              "      <td>-0.249</td>\n",
              "      <td>0.147</td>\n",
              "      <td>0.289</td>\n",
              "      <td>-0.257</td>\n",
              "      <td>0.099</td>\n",
              "      <td>0.276</td>\n",
              "    </tr>\n",
              "    <tr>\n",
              "      <th>K00755.01</th>\n",
              "      <td>CONFIRMED</td>\n",
              "      <td>2.52559</td>\n",
              "      <td>0.701</td>\n",
              "      <td>1.65450</td>\n",
              "      <td>603.3</td>\n",
              "      <td>0.02406</td>\n",
              "      <td>1.98635</td>\n",
              "      <td>2.75</td>\n",
              "      <td>0.0374</td>\n",
              "      <td>85.41</td>\n",
              "      <td>1406.0</td>\n",
              "      <td>926.16</td>\n",
              "      <td>8.750</td>\n",
              "      <td>4.74994</td>\n",
              "      <td>33.19190</td>\n",
              "      <td>40.9</td>\n",
              "      <td>6031.0</td>\n",
              "      <td>4.438</td>\n",
              "      <td>0.07</td>\n",
              "      <td>1.046</td>\n",
              "      <td>1.095</td>\n",
              "      <td>15.509</td>\n",
              "      <td>16.015</td>\n",
              "      <td>15.468</td>\n",
              "      <td>15.292</td>\n",
              "      <td>15.241</td>\n",
              "      <td>14.366</td>\n",
              "      <td>14.064</td>\n",
              "      <td>13.952</td>\n",
              "      <td>0.733</td>\n",
              "      <td>19.25033</td>\n",
              "      <td>48.22626</td>\n",
              "      <td>-0.010</td>\n",
              "      <td>0.230</td>\n",
              "      <td>0.00008</td>\n",
              "      <td>-0.00007</td>\n",
              "      <td>0.030</td>\n",
              "      <td>-0.090</td>\n",
              "      <td>0.100</td>\n",
              "      <td>0.070</td>\n",
              "      <td>0.020</td>\n",
              "      <td>0.070</td>\n",
              "    </tr>\n",
              "    <tr>\n",
              "      <th>K00114.01</th>\n",
              "      <td>FALSE POSITIVE</td>\n",
              "      <td>7.36179</td>\n",
              "      <td>1.169</td>\n",
              "      <td>5.02200</td>\n",
              "      <td>233.7</td>\n",
              "      <td>0.18339</td>\n",
              "      <td>0.00485</td>\n",
              "      <td>39.21</td>\n",
              "      <td>0.0820</td>\n",
              "      <td>60.92</td>\n",
              "      <td>1342.0</td>\n",
              "      <td>767.22</td>\n",
              "      <td>2.400</td>\n",
              "      <td>10.96468</td>\n",
              "      <td>46.15308</td>\n",
              "      <td>47.7</td>\n",
              "      <td>6227.0</td>\n",
              "      <td>3.986</td>\n",
              "      <td>0.00</td>\n",
              "      <td>1.958</td>\n",
              "      <td>1.358</td>\n",
              "      <td>12.660</td>\n",
              "      <td>12.999</td>\n",
              "      <td>12.609</td>\n",
              "      <td>12.515</td>\n",
              "      <td>12.480</td>\n",
              "      <td>11.659</td>\n",
              "      <td>11.415</td>\n",
              "      <td>11.396</td>\n",
              "      <td>0.000</td>\n",
              "      <td>19.92395</td>\n",
              "      <td>42.15826</td>\n",
              "      <td>-13.450</td>\n",
              "      <td>24.090</td>\n",
              "      <td>0.00303</td>\n",
              "      <td>-0.00555</td>\n",
              "      <td>-4.506</td>\n",
              "      <td>7.710</td>\n",
              "      <td>8.930</td>\n",
              "      <td>-4.537</td>\n",
              "      <td>7.713</td>\n",
              "      <td>8.948</td>\n",
              "    </tr>\n",
              "  </tbody>\n",
              "</table>\n",
              "</div>"
            ],
            "text/plain": [
              "           koi_disposition  koi_period  ...  koi_dikco_mdec  koi_dikco_msky\n",
              "kepoi_name                              ...                                \n",
              "K00752.01        CONFIRMED     9.48804  ...           0.310           0.320\n",
              "K00752.02        CONFIRMED    54.41838  ...           0.120           0.500\n",
              "K00754.01   FALSE POSITIVE     1.73695  ...           0.099           0.276\n",
              "K00755.01        CONFIRMED     2.52559  ...           0.020           0.070\n",
              "K00114.01   FALSE POSITIVE     7.36179  ...           7.713           8.948\n",
              "\n",
              "[5 rows x 42 columns]"
            ]
          },
          "metadata": {
            "tags": []
          },
          "execution_count": 2
        }
      ]
    },
    {
      "cell_type": "markdown",
      "metadata": {
        "id": "CroiG9WqG135"
      },
      "source": [
        "A tabela abaixo mostra que cerca de 40% das observações contidas no conjunto de dados são exoplanetas de fato, os 60% restantes são falsos positivos."
      ]
    },
    {
      "cell_type": "code",
      "metadata": {
        "colab": {
          "base_uri": "https://localhost:8080/",
          "height": 111
        },
        "id": "Ug8W9k3XG1BI",
        "outputId": "ea770599-50ca-4bdc-c16d-e947c05ffd5e"
      },
      "source": [
        "df_tabela = pd.DataFrame(koi_data['koi_disposition'].value_counts())\n",
        "df_tabela['prop'] = round(df_tabela['koi_disposition']/sum(df_tabela['koi_disposition']), ndigits = 4)\n",
        "df_tabela\n"
      ],
      "execution_count": 3,
      "outputs": [
        {
          "output_type": "execute_result",
          "data": {
            "text/html": [
              "<div>\n",
              "<style scoped>\n",
              "    .dataframe tbody tr th:only-of-type {\n",
              "        vertical-align: middle;\n",
              "    }\n",
              "\n",
              "    .dataframe tbody tr th {\n",
              "        vertical-align: top;\n",
              "    }\n",
              "\n",
              "    .dataframe thead th {\n",
              "        text-align: right;\n",
              "    }\n",
              "</style>\n",
              "<table border=\"1\" class=\"dataframe\">\n",
              "  <thead>\n",
              "    <tr style=\"text-align: right;\">\n",
              "      <th></th>\n",
              "      <th>koi_disposition</th>\n",
              "      <th>prop</th>\n",
              "    </tr>\n",
              "  </thead>\n",
              "  <tbody>\n",
              "    <tr>\n",
              "      <th>FALSE POSITIVE</th>\n",
              "      <td>3098</td>\n",
              "      <td>0.5955</td>\n",
              "    </tr>\n",
              "    <tr>\n",
              "      <th>CONFIRMED</th>\n",
              "      <td>2104</td>\n",
              "      <td>0.4045</td>\n",
              "    </tr>\n",
              "  </tbody>\n",
              "</table>\n",
              "</div>"
            ],
            "text/plain": [
              "                koi_disposition    prop\n",
              "FALSE POSITIVE             3098  0.5955\n",
              "CONFIRMED                  2104  0.4045"
            ]
          },
          "metadata": {
            "tags": []
          },
          "execution_count": 3
        }
      ]
    },
    {
      "cell_type": "markdown",
      "metadata": {
        "id": "EcSuJxQXk1QY"
      },
      "source": [
        "### **Implementação**\n",
        "\n",
        "Eu usarei os algoritmos implementados no módulo *sklearn* usando a estrutura de *Pipelines* quando necessário. Essa estrutura permite deixar o código mais organizado e orientado a objetos. Quando necessário eu usarei a padronização das covariáveis, isto é, deixarei todas na mesma escala, com média 0 e variância 1, eu preferi usar essa padronização porque eu acho ela mais interpretativa aos dados e facilita os cálculos dos algoritmos. Eu testei fazer isso nos algoritmos de Árvore de Decisão, Floresta Aleatória e Gradient Tree Boosting, no entanto o resultado não ficou melhor que não padronizando as variáveis e assim preferi não padronizar porque fica mais fácil interpretar esses classificadores.\n",
        "\n",
        "Outra característica que eu preferi assumir nesse trabalho foi usar o argumento *shuffle* igual a verdadeiro na validação cruzada estratificada. Isso porque não ficou claro se o valor padrão desse argumento não embaralha os dados na validação cruzada."
      ]
    },
    {
      "cell_type": "markdown",
      "metadata": {
        "id": "GVTABKhXiyyb"
      },
      "source": [
        "## **Classificador Naive Bayes**\n",
        "\n",
        "O classificador Naive Bayes será usado como o *baseline* desse experimento. Esse classificador é baseado no Teorema de mesmo nome calculado primeiramente pelo matemático inglês Thomas Bayes. Ele recebe o adjetivo de *naive (ingênuo em português)* por fazer a suposição de que a distribuição condicional de que uma covariável (*feature*) presente no conjunto de dados dado a variável-alvo é independente da distribuição condicional das outras covariáveis do conjunto de dados também dado a variável-alvo. Essa suposição dificilmente é válida em problemas reais, pois covariáveis costumam se correlacionar, ainda assim esse classificador fornece boas estimativas e é muito simples.\n",
        "\n",
        "Para o classificador Naive Bayes eu padronizarei as *features*, deixando-as com média 0 e variância 1 e após isso aplicarei o Naive Bayes Gaussiano, pelo que vimos na aula e pelo que li na documentação essa é a variação do Naive Bayes é o que mais se enquadra com as covariáveis contínuas que temos. O Naive Bayes Gaussiano tem apenas um hiperparâmetro que é a suavização da variância, esse hiperparâmetro é usado segundo a documentação do algoritmo para dar estabilidade no cálculo das probabilidades. Como o Naive Bayes está sendo usado apenas como *baseline* nesse estudo, eu usarei apenas o valor padrão para esse hiperparâmetro."
      ]
    },
    {
      "cell_type": "code",
      "metadata": {
        "colab": {
          "base_uri": "https://localhost:8080/"
        },
        "id": "elWlTzfnUcSt",
        "outputId": "5077a93b-bb11-4dec-f411-5d541846d08b"
      },
      "source": [
        "# pipeline para padronização dos dados e depois disso a criação do classificador Naive Bayes Gaussiano\n",
        "classificador_naive_bayes = Pipeline(\n",
        "    steps = [('padronizacao covariaveis', StandardScaler()),\n",
        "             ('naive_bayes', GaussianNB())])\n",
        "\n",
        "# definição do hiperparametro usado nesse classificador, nesse caso estou definindo apenas como o valor default.\n",
        "hiperparametro_naive_bayes = {'naive_bayes__var_smoothing': [1e-9]}\n",
        "\n",
        "# criação do grid para NESSE CASO ajustar o algoritmo Naive Bayes com 5 folds de validação cruzada. \n",
        "# Além disso, estou pedindo para o grid ser executado em paralelo, usar a métrica acurácia e retornar \n",
        "# também a acurácia nos conjuntos de treinamento usado em cada fold.\n",
        "grid_naive_bayes = GridSearchCV(estimator = classificador_naive_bayes, \n",
        "                                param_grid = hiperparametro_naive_bayes, \n",
        "                                cv = StratifiedKFold(n_splits = 5, shuffle = True, random_state = 1313),\n",
        "                                n_jobs = -1, scoring = 'accuracy', \n",
        "                                return_train_score = True)\n",
        "\n",
        "# ajuste do grid com o conjunto de dados do estudo\n",
        "grid_naive_bayes.fit(X = koi_data.drop(['koi_disposition'], axis = 1), \n",
        "                     y = koi_data['koi_disposition'])"
      ],
      "execution_count": 4,
      "outputs": [
        {
          "output_type": "execute_result",
          "data": {
            "text/plain": [
              "GridSearchCV(cv=StratifiedKFold(n_splits=5, random_state=1313, shuffle=True),\n",
              "             error_score=nan,\n",
              "             estimator=Pipeline(memory=None,\n",
              "                                steps=[('padronizacao covariaveis',\n",
              "                                        StandardScaler(copy=True,\n",
              "                                                       with_mean=True,\n",
              "                                                       with_std=True)),\n",
              "                                       ('naive_bayes',\n",
              "                                        GaussianNB(priors=None,\n",
              "                                                   var_smoothing=1e-09))],\n",
              "                                verbose=False),\n",
              "             iid='deprecated', n_jobs=-1,\n",
              "             param_grid={'naive_bayes__var_smoothing': [1e-09]},\n",
              "             pre_dispatch='2*n_jobs', refit=True, return_train_score=True,\n",
              "             scoring='accuracy', verbose=0)"
            ]
          },
          "metadata": {
            "tags": []
          },
          "execution_count": 4
        }
      ]
    },
    {
      "cell_type": "code",
      "metadata": {
        "colab": {
          "base_uri": "https://localhost:8080/"
        },
        "id": "VIHyn4qIETW7",
        "outputId": "f55ad363-2a8d-45d7-e333-06cfea2aef2a"
      },
      "source": [
        "print(\"Acurácia média nos folds de teste do modelo Naive Bayes: %.4f\" % grid_naive_bayes.cv_results_['mean_test_score'])\n"
      ],
      "execution_count": 6,
      "outputs": [
        {
          "output_type": "stream",
          "text": [
            "Acurácia média nos folds de teste do modelo Naive Bayes: 0.9170\n"
          ],
          "name": "stdout"
        }
      ]
    },
    {
      "cell_type": "markdown",
      "metadata": {
        "id": "xOlpO3_xZO4g"
      },
      "source": [
        "A acurácia em cada um dos folds de teste na validação cruzada foram:"
      ]
    },
    {
      "cell_type": "code",
      "metadata": {
        "colab": {
          "base_uri": "https://localhost:8080/",
          "height": 80
        },
        "id": "3bBghnxZzS0e",
        "outputId": "db079532-09c7-45f1-a6f7-9c05346e02fe"
      },
      "source": [
        "splits = ['split0_test_score', 'split1_test_score', 'split2_test_score', 'split3_test_score', 'split4_test_score']\n",
        "pd.DataFrame(grid_naive_bayes.cv_results_)[splits]"
      ],
      "execution_count": 7,
      "outputs": [
        {
          "output_type": "execute_result",
          "data": {
            "text/html": [
              "<div>\n",
              "<style scoped>\n",
              "    .dataframe tbody tr th:only-of-type {\n",
              "        vertical-align: middle;\n",
              "    }\n",
              "\n",
              "    .dataframe tbody tr th {\n",
              "        vertical-align: top;\n",
              "    }\n",
              "\n",
              "    .dataframe thead th {\n",
              "        text-align: right;\n",
              "    }\n",
              "</style>\n",
              "<table border=\"1\" class=\"dataframe\">\n",
              "  <thead>\n",
              "    <tr style=\"text-align: right;\">\n",
              "      <th></th>\n",
              "      <th>split0_test_score</th>\n",
              "      <th>split1_test_score</th>\n",
              "      <th>split2_test_score</th>\n",
              "      <th>split3_test_score</th>\n",
              "      <th>split4_test_score</th>\n",
              "    </tr>\n",
              "  </thead>\n",
              "  <tbody>\n",
              "    <tr>\n",
              "      <th>0</th>\n",
              "      <td>0.920269</td>\n",
              "      <td>0.914505</td>\n",
              "      <td>0.914423</td>\n",
              "      <td>0.911538</td>\n",
              "      <td>0.924038</td>\n",
              "    </tr>\n",
              "  </tbody>\n",
              "</table>\n",
              "</div>"
            ],
            "text/plain": [
              "   split0_test_score  split1_test_score  ...  split3_test_score  split4_test_score\n",
              "0           0.920269           0.914505  ...           0.911538           0.924038\n",
              "\n",
              "[1 rows x 5 columns]"
            ]
          },
          "metadata": {
            "tags": []
          },
          "execution_count": 7
        }
      ]
    },
    {
      "cell_type": "markdown",
      "metadata": {
        "id": "vhWQwHEHfNVh"
      },
      "source": [
        "# **Classificador Árvore de Decisão**\n",
        "\n",
        "O próximo algoritmo a ser feito é a *Decision Tree*, em português Árvore de Decisão. Aqui devemos variar a profundidade máxima da árvore, quanto mais profunda permitimos que a árvore seja mais divisões o algoritmo vai procurar fazer, isto é, mais nós de divisão a árvore terá. Um número baixo do hiperparâmetro *max_depth* poderá deixar o classificador aquém da capacidade dos dados levando ao *underfitting* e um número alto desse hiperparâmetro poderá deixar o classificador além da capacidade dos dados levando ao *overfitting*. O critério de divisão dos nós que usarei é a entropia que foi o que aprendemos na aula, a divisão acontecerá no ponto da variável que levará a menor entropia e consequentemente ao maior ganho de informação."
      ]
    },
    {
      "cell_type": "code",
      "metadata": {
        "id": "3Y7Z31Cft-mu",
        "colab": {
          "base_uri": "https://localhost:8080/"
        },
        "outputId": "6b77363e-75ae-47f5-882c-771f3c42f42e"
      },
      "source": [
        "# criação do classificador a partir do algoritmo árvore de decisão. Aqui não é necessário normalizar os dados \n",
        "# porque isso não faz diferença para a árvore.\n",
        "classificador_arvore_decisao = DecisionTreeClassifier(criterion = 'entropy')\n",
        "\n",
        "# definindo os valores possiveis para o hiperparametro profundidade da árvore\n",
        "hiperparametro_arvore_decisao = {'max_depth': [1, 2, 3, 4, 5, 10, 20, 30, 40, 50, 60, 70, 80, 90, 100, None]}\n",
        "\n",
        "# criando o grid que irá testar todos esses possíveis valores de profundidade e \n",
        "# retornar o melhor a partir da avaliação dos resultados através de validação cruzada.\n",
        "grid_arvore_decisao = GridSearchCV(estimator = classificador_arvore_decisao, \n",
        "                                   param_grid = hiperparametro_arvore_decisao, \n",
        "                                   cv = StratifiedKFold(n_splits = 5, shuffle = True, random_state = 1313), \n",
        "                                   n_jobs = -1, scoring = 'accuracy', return_train_score = True)\n",
        "\n",
        "# ajustando o grid feito para árvore de decisão aos nossos dados:\n",
        "grid_arvore_decisao.fit(X = koi_data.drop(['koi_disposition'], axis = 1),\n",
        "                        y = koi_data['koi_disposition'])"
      ],
      "execution_count": 9,
      "outputs": [
        {
          "output_type": "execute_result",
          "data": {
            "text/plain": [
              "GridSearchCV(cv=StratifiedKFold(n_splits=5, random_state=1313, shuffle=True),\n",
              "             error_score=nan,\n",
              "             estimator=DecisionTreeClassifier(ccp_alpha=0.0, class_weight=None,\n",
              "                                              criterion='entropy',\n",
              "                                              max_depth=None, max_features=None,\n",
              "                                              max_leaf_nodes=None,\n",
              "                                              min_impurity_decrease=0.0,\n",
              "                                              min_impurity_split=None,\n",
              "                                              min_samples_leaf=1,\n",
              "                                              min_samples_split=2,\n",
              "                                              min_weight_fraction_leaf=0.0,\n",
              "                                              presort='deprecated',\n",
              "                                              random_state=None,\n",
              "                                              splitter='best'),\n",
              "             iid='deprecated', n_jobs=-1,\n",
              "             param_grid={'max_depth': [1, 2, 3, 4, 5, 10, 20, 30, 40, 50, 60,\n",
              "                                       70, 80, 90, 100, None]},\n",
              "             pre_dispatch='2*n_jobs', refit=True, return_train_score=True,\n",
              "             scoring='accuracy', verbose=0)"
            ]
          },
          "metadata": {
            "tags": []
          },
          "execution_count": 9
        }
      ]
    },
    {
      "cell_type": "code",
      "metadata": {
        "colab": {
          "base_uri": "https://localhost:8080/"
        },
        "id": "FtcvtU4hnJG1",
        "outputId": "a515192d-69bf-4444-b21f-04e4a9a3ee0a"
      },
      "source": [
        "print(\"A Árvore de Decisão com profundidade máxima de %d é a que obteve melhor acurácia \\\n",
        "média nos folds de teste durante ajuste. \\nO valor médio dessa acurácia foi de: %.4f\" \n",
        "      % (grid_arvore_decisao.best_params_['max_depth'], grid_arvore_decisao.best_score_))"
      ],
      "execution_count": 10,
      "outputs": [
        {
          "output_type": "stream",
          "text": [
            "A Árvore de Decisão com profundidade máxima de 20 é a que obteve melhor acurácia média nos folds de teste durante ajuste. \n",
            "O valor médio dessa acurácia foi de: 0.9504\n"
          ],
          "name": "stdout"
        }
      ]
    },
    {
      "cell_type": "markdown",
      "metadata": {
        "id": "NyV5O9TenobU"
      },
      "source": [
        "A acurácia em cada um dos folds de teste na validação cruzada foram:"
      ]
    },
    {
      "cell_type": "code",
      "metadata": {
        "colab": {
          "base_uri": "https://localhost:8080/",
          "height": 80
        },
        "id": "MazHxDmqnZvC",
        "outputId": "e954cb50-3057-4fa1-e928-3484537a6294"
      },
      "source": [
        "splits = ['split0_test_score', 'split1_test_score', 'split2_test_score', 'split3_test_score', 'split4_test_score']\n",
        "max_depth = str(grid_arvore_decisao.best_params_['max_depth'])\n",
        "pd.DataFrame(grid_arvore_decisao.cv_results_).query(\"param_max_depth == \" + max_depth)[splits]\n"
      ],
      "execution_count": 11,
      "outputs": [
        {
          "output_type": "execute_result",
          "data": {
            "text/html": [
              "<div>\n",
              "<style scoped>\n",
              "    .dataframe tbody tr th:only-of-type {\n",
              "        vertical-align: middle;\n",
              "    }\n",
              "\n",
              "    .dataframe tbody tr th {\n",
              "        vertical-align: top;\n",
              "    }\n",
              "\n",
              "    .dataframe thead th {\n",
              "        text-align: right;\n",
              "    }\n",
              "</style>\n",
              "<table border=\"1\" class=\"dataframe\">\n",
              "  <thead>\n",
              "    <tr style=\"text-align: right;\">\n",
              "      <th></th>\n",
              "      <th>split0_test_score</th>\n",
              "      <th>split1_test_score</th>\n",
              "      <th>split2_test_score</th>\n",
              "      <th>split3_test_score</th>\n",
              "      <th>split4_test_score</th>\n",
              "    </tr>\n",
              "  </thead>\n",
              "  <tbody>\n",
              "    <tr>\n",
              "      <th>6</th>\n",
              "      <td>0.951009</td>\n",
              "      <td>0.940442</td>\n",
              "      <td>0.946154</td>\n",
              "      <td>0.953846</td>\n",
              "      <td>0.960577</td>\n",
              "    </tr>\n",
              "  </tbody>\n",
              "</table>\n",
              "</div>"
            ],
            "text/plain": [
              "   split0_test_score  split1_test_score  ...  split3_test_score  split4_test_score\n",
              "6           0.951009           0.940442  ...           0.953846           0.960577\n",
              "\n",
              "[1 rows x 5 columns]"
            ]
          },
          "metadata": {
            "tags": []
          },
          "execution_count": 11
        }
      ]
    },
    {
      "cell_type": "markdown",
      "metadata": {
        "id": "yxpfiPUBoDd0"
      },
      "source": [
        "Resultados da acurácia média da árvore variando a profundidade máxima no fold de teste e nos folds de treino."
      ]
    },
    {
      "cell_type": "code",
      "metadata": {
        "colab": {
          "base_uri": "https://localhost:8080/",
          "height": 545
        },
        "id": "XKibpwbryQrI",
        "outputId": "d53aa8bb-00e9-450d-85fe-5b127d8fcf67"
      },
      "source": [
        "pd.DataFrame(grid_arvore_decisao.cv_results_)[['param_max_depth','mean_test_score','mean_train_score']]"
      ],
      "execution_count": 12,
      "outputs": [
        {
          "output_type": "execute_result",
          "data": {
            "text/html": [
              "<div>\n",
              "<style scoped>\n",
              "    .dataframe tbody tr th:only-of-type {\n",
              "        vertical-align: middle;\n",
              "    }\n",
              "\n",
              "    .dataframe tbody tr th {\n",
              "        vertical-align: top;\n",
              "    }\n",
              "\n",
              "    .dataframe thead th {\n",
              "        text-align: right;\n",
              "    }\n",
              "</style>\n",
              "<table border=\"1\" class=\"dataframe\">\n",
              "  <thead>\n",
              "    <tr style=\"text-align: right;\">\n",
              "      <th></th>\n",
              "      <th>param_max_depth</th>\n",
              "      <th>mean_test_score</th>\n",
              "      <th>mean_train_score</th>\n",
              "    </tr>\n",
              "  </thead>\n",
              "  <tbody>\n",
              "    <tr>\n",
              "      <th>0</th>\n",
              "      <td>1</td>\n",
              "      <td>0.718375</td>\n",
              "      <td>0.719771</td>\n",
              "    </tr>\n",
              "    <tr>\n",
              "      <th>1</th>\n",
              "      <td>2</td>\n",
              "      <td>0.903306</td>\n",
              "      <td>0.905373</td>\n",
              "    </tr>\n",
              "    <tr>\n",
              "      <th>2</th>\n",
              "      <td>3</td>\n",
              "      <td>0.933871</td>\n",
              "      <td>0.937092</td>\n",
              "    </tr>\n",
              "    <tr>\n",
              "      <th>3</th>\n",
              "      <td>4</td>\n",
              "      <td>0.945598</td>\n",
              "      <td>0.950884</td>\n",
              "    </tr>\n",
              "    <tr>\n",
              "      <th>4</th>\n",
              "      <td>5</td>\n",
              "      <td>0.946174</td>\n",
              "      <td>0.958141</td>\n",
              "    </tr>\n",
              "    <tr>\n",
              "      <th>5</th>\n",
              "      <td>10</td>\n",
              "      <td>0.949442</td>\n",
              "      <td>0.994425</td>\n",
              "    </tr>\n",
              "    <tr>\n",
              "      <th>6</th>\n",
              "      <td>20</td>\n",
              "      <td>0.950405</td>\n",
              "      <td>1.000000</td>\n",
              "    </tr>\n",
              "    <tr>\n",
              "      <th>7</th>\n",
              "      <td>30</td>\n",
              "      <td>0.949827</td>\n",
              "      <td>1.000000</td>\n",
              "    </tr>\n",
              "    <tr>\n",
              "      <th>8</th>\n",
              "      <td>40</td>\n",
              "      <td>0.949443</td>\n",
              "      <td>1.000000</td>\n",
              "    </tr>\n",
              "    <tr>\n",
              "      <th>9</th>\n",
              "      <td>50</td>\n",
              "      <td>0.949443</td>\n",
              "      <td>1.000000</td>\n",
              "    </tr>\n",
              "    <tr>\n",
              "      <th>10</th>\n",
              "      <td>60</td>\n",
              "      <td>0.948098</td>\n",
              "      <td>1.000000</td>\n",
              "    </tr>\n",
              "    <tr>\n",
              "      <th>11</th>\n",
              "      <td>70</td>\n",
              "      <td>0.948866</td>\n",
              "      <td>1.000000</td>\n",
              "    </tr>\n",
              "    <tr>\n",
              "      <th>12</th>\n",
              "      <td>80</td>\n",
              "      <td>0.949828</td>\n",
              "      <td>1.000000</td>\n",
              "    </tr>\n",
              "    <tr>\n",
              "      <th>13</th>\n",
              "      <td>90</td>\n",
              "      <td>0.950021</td>\n",
              "      <td>1.000000</td>\n",
              "    </tr>\n",
              "    <tr>\n",
              "      <th>14</th>\n",
              "      <td>100</td>\n",
              "      <td>0.949251</td>\n",
              "      <td>1.000000</td>\n",
              "    </tr>\n",
              "    <tr>\n",
              "      <th>15</th>\n",
              "      <td>None</td>\n",
              "      <td>0.950020</td>\n",
              "      <td>1.000000</td>\n",
              "    </tr>\n",
              "  </tbody>\n",
              "</table>\n",
              "</div>"
            ],
            "text/plain": [
              "   param_max_depth  mean_test_score  mean_train_score\n",
              "0                1         0.718375          0.719771\n",
              "1                2         0.903306          0.905373\n",
              "2                3         0.933871          0.937092\n",
              "3                4         0.945598          0.950884\n",
              "4                5         0.946174          0.958141\n",
              "5               10         0.949442          0.994425\n",
              "6               20         0.950405          1.000000\n",
              "7               30         0.949827          1.000000\n",
              "8               40         0.949443          1.000000\n",
              "9               50         0.949443          1.000000\n",
              "10              60         0.948098          1.000000\n",
              "11              70         0.948866          1.000000\n",
              "12              80         0.949828          1.000000\n",
              "13              90         0.950021          1.000000\n",
              "14             100         0.949251          1.000000\n",
              "15            None         0.950020          1.000000"
            ]
          },
          "metadata": {
            "tags": []
          },
          "execution_count": 12
        }
      ]
    },
    {
      "cell_type": "markdown",
      "metadata": {
        "id": "ukHLMl7uo-i2"
      },
      "source": [
        "Fazendo o gráfico do valor da acurácia média obtida por profundidade máxima da árvore de decisão:"
      ]
    },
    {
      "cell_type": "code",
      "metadata": {
        "colab": {
          "base_uri": "https://localhost:8080/",
          "height": 319
        },
        "id": "XifC7MMEJne8",
        "outputId": "b21e6a81-ce84-4bf1-f21e-ce67da1ebbfa"
      },
      "source": [
        "df_arvore_decisao = pd.DataFrame(grid_arvore_decisao.cv_results_)[['param_max_depth','mean_test_score','mean_train_score']]\n",
        "plt.plot('param_max_depth', 'mean_train_score', data = df_arvore_decisao, \n",
        "         marker = 'o', markerfacecolor = 'royalblue', markersize = 4, \n",
        "         color = 'royalblue', linewidth = 1)\n",
        "plt.plot('param_max_depth', 'mean_test_score', data = df_arvore_decisao, \n",
        "         marker = 'o', markerfacecolor = 'tomato', markersize = 4, \n",
        "         color = 'tomato', linewidth = 1)\n",
        "plt.legend()\n",
        "plt.title('Acurácia por profundidade máxima da\\nárvore de decisão em treino e teste', fontsize = 16)\n",
        "plt.xlabel('Profundidade da árvore de decisão', fontsize = 12)\n",
        "plt.ylabel('Acurácia', fontsize = 12)\n",
        "axes = plt.gca()\n",
        "plt.show()"
      ],
      "execution_count": 13,
      "outputs": [
        {
          "output_type": "display_data",
          "data": {
            "image/png": "[encoded data removed]",
            "text/plain": [
              "<Figure size 432x288 with 1 Axes>"
            ]
          },
          "metadata": {
            "tags": [],
            "needs_background": "light"
          }
        }
      ]
    },
    {
      "cell_type": "markdown",
      "metadata": {
        "id": "TShBFz0amUfp"
      },
      "source": [
        "# **Classificador KNN**\n",
        "\n",
        "O próximo algoritmo a ser testado é o KNN, esse é um dos algoritmos mais fáceis de ser explicado, já que a estimativa para um ponto qualquer é dado pela moda dos k pontos vizinhos mais próximos a ele. Nesse algoritmo eu padronizarei as covariáveis, para deixá-las na mesma escala. Isso é importante para esse algoritmo porque se não for feito pode distorcer o que é perto ou não por conta da variância de determinada variável. O hiperparâmetro a ser testado é o número de vizinhos a ser considerado na estimativa da classe dos pontos. Vou variar esse valor desde k muito pequenos até valores enormes. A princípio uma parte contra-intuitiva desse algoritmo é que poucos vizinhos levam a possível *overfitting* e estimativas considerando muitos vizinhos podem lever a *underfitting*, ou seja, valores pequenos de k devem levar ao *overfitting* já que pontos muito próximos podem ter estimativas diferentes, o chamado erro de variância. Já valores muito grandes de k podem levar a *underfitting*."
      ]
    },
    {
      "cell_type": "code",
      "metadata": {
        "colab": {
          "base_uri": "https://localhost:8080/"
        },
        "id": "LCBM7wElZcBZ",
        "outputId": "a93b0c4b-237e-4ac3-b300-15793ad3c3e0"
      },
      "source": [
        "# APROXIMADAMENTE 2 MINUTOS E 30 SEGUNDOS PARA RODAR\n",
        "# criação do classificador a partir do algoritmo knn.\n",
        "classificador_knn = Pipeline(\n",
        "    steps = [('padronizacao covariaveis', StandardScaler()),\n",
        "             ('knn', KNeighborsClassifier())])\n",
        "\n",
        "# definindo os valores possíveis para o hiperparâmetro k que representa o número de vizinhos a ser considerado.\n",
        "hiperparametro_knn = {'knn__n_neighbors': list(range(1, 10)) + list(range(10, 101, 10)) + list(range(100, 2001, 400))}\n",
        "\n",
        "# criando o grid que irá testar todos esses possíveis valores de vizinhos e retornar\n",
        "# o melhor a partir da avaliação dos resultados através de validação cruzada.\n",
        "grid_knn = GridSearchCV(estimator = classificador_knn, param_grid = hiperparametro_knn, \n",
        "                        cv = StratifiedKFold(n_splits = 5, shuffle = True, random_state = 1313), \n",
        "                        n_jobs = -1, scoring = 'accuracy', return_train_score = True)\n",
        "\n",
        "# ajustando o algoritmo aos dados do nosso estudo\n",
        "grid_knn.fit(X = koi_data.drop(['koi_disposition'], axis = 1), \n",
        "             y = koi_data['koi_disposition'])\n"
      ],
      "execution_count": 14,
      "outputs": [
        {
          "output_type": "execute_result",
          "data": {
            "text/plain": [
              "GridSearchCV(cv=StratifiedKFold(n_splits=5, random_state=1313, shuffle=True),\n",
              "             error_score=nan,\n",
              "             estimator=Pipeline(memory=None,\n",
              "                                steps=[('padronizacao covariaveis',\n",
              "                                        StandardScaler(copy=True,\n",
              "                                                       with_mean=True,\n",
              "                                                       with_std=True)),\n",
              "                                       ('knn',\n",
              "                                        KNeighborsClassifier(algorithm='auto',\n",
              "                                                             leaf_size=30,\n",
              "                                                             metric='minkowski',\n",
              "                                                             metric_params=None,\n",
              "                                                             n_jobs=None,\n",
              "                                                             n_neighbors=5, p=2,\n",
              "                                                             weights='uniform'))],\n",
              "                                verbose=False),\n",
              "             iid='deprecated', n_jobs=-1,\n",
              "             param_grid={'knn__n_neighbors': [1, 2, 3, 4, 5, 6, 7, 8, 9, 10, 20,\n",
              "                                              30, 40, 50, 60, 70, 80, 90, 100,\n",
              "                                              100, 500, 900, 1300, 1700]},\n",
              "             pre_dispatch='2*n_jobs', refit=True, return_train_score=True,\n",
              "             scoring='accuracy', verbose=0)"
            ]
          },
          "metadata": {
            "tags": []
          },
          "execution_count": 14
        }
      ]
    },
    {
      "cell_type": "code",
      "metadata": {
        "colab": {
          "base_uri": "https://localhost:8080/"
        },
        "id": "O3has7wwv6mM",
        "outputId": "5a8a214f-1918-471d-968c-8f733102b3c4"
      },
      "source": [
        "print(\"O KNN com %d vizinhos é o que obteve melhor acurácia \\\n",
        "média nos folds de teste durante ajuste. \\nO valor médio dessa acurácia foi de: %.4f\" \n",
        "      % (grid_knn.best_params_['knn__n_neighbors'], grid_knn.best_score_))"
      ],
      "execution_count": 15,
      "outputs": [
        {
          "output_type": "stream",
          "text": [
            "O KNN com 3 vizinhos é o que obteve melhor acurácia média nos folds de teste durante ajuste. \n",
            "O valor médio dessa acurácia foi de: 0.8929\n"
          ],
          "name": "stdout"
        }
      ]
    },
    {
      "cell_type": "markdown",
      "metadata": {
        "id": "9z0heei0sLlk"
      },
      "source": [
        "Resultados da acurácia média do KNN variando o número de vizinhos no fold de teste e nos folds de treino."
      ]
    },
    {
      "cell_type": "code",
      "metadata": {
        "colab": {
          "base_uri": "https://localhost:8080/",
          "height": 793
        },
        "id": "emSkpmu2d6Lp",
        "outputId": "2d7beab1-e774-4ee4-a5a0-a436999fe986"
      },
      "source": [
        "pd.DataFrame(grid_knn.cv_results_)[['param_knn__n_neighbors','mean_test_score','mean_train_score']]"
      ],
      "execution_count": 16,
      "outputs": [
        {
          "output_type": "execute_result",
          "data": {
            "text/html": [
              "<div>\n",
              "<style scoped>\n",
              "    .dataframe tbody tr th:only-of-type {\n",
              "        vertical-align: middle;\n",
              "    }\n",
              "\n",
              "    .dataframe tbody tr th {\n",
              "        vertical-align: top;\n",
              "    }\n",
              "\n",
              "    .dataframe thead th {\n",
              "        text-align: right;\n",
              "    }\n",
              "</style>\n",
              "<table border=\"1\" class=\"dataframe\">\n",
              "  <thead>\n",
              "    <tr style=\"text-align: right;\">\n",
              "      <th></th>\n",
              "      <th>param_knn__n_neighbors</th>\n",
              "      <th>mean_test_score</th>\n",
              "      <th>mean_train_score</th>\n",
              "    </tr>\n",
              "  </thead>\n",
              "  <tbody>\n",
              "    <tr>\n",
              "      <th>0</th>\n",
              "      <td>1</td>\n",
              "      <td>0.888124</td>\n",
              "      <td>1.000000</td>\n",
              "    </tr>\n",
              "    <tr>\n",
              "      <th>1</th>\n",
              "      <td>2</td>\n",
              "      <td>0.864861</td>\n",
              "      <td>0.914648</td>\n",
              "    </tr>\n",
              "    <tr>\n",
              "      <th>2</th>\n",
              "      <td>3</td>\n",
              "      <td>0.892928</td>\n",
              "      <td>0.934641</td>\n",
              "    </tr>\n",
              "    <tr>\n",
              "      <th>3</th>\n",
              "      <td>4</td>\n",
              "      <td>0.877741</td>\n",
              "      <td>0.906719</td>\n",
              "    </tr>\n",
              "    <tr>\n",
              "      <th>4</th>\n",
              "      <td>5</td>\n",
              "      <td>0.892158</td>\n",
              "      <td>0.919502</td>\n",
              "    </tr>\n",
              "    <tr>\n",
              "      <th>5</th>\n",
              "      <td>6</td>\n",
              "      <td>0.877547</td>\n",
              "      <td>0.901721</td>\n",
              "    </tr>\n",
              "    <tr>\n",
              "      <th>6</th>\n",
              "      <td>7</td>\n",
              "      <td>0.890812</td>\n",
              "      <td>0.911140</td>\n",
              "    </tr>\n",
              "    <tr>\n",
              "      <th>7</th>\n",
              "      <td>8</td>\n",
              "      <td>0.880047</td>\n",
              "      <td>0.898308</td>\n",
              "    </tr>\n",
              "    <tr>\n",
              "      <th>8</th>\n",
              "      <td>9</td>\n",
              "      <td>0.889081</td>\n",
              "      <td>0.904700</td>\n",
              "    </tr>\n",
              "    <tr>\n",
              "      <th>9</th>\n",
              "      <td>10</td>\n",
              "      <td>0.879662</td>\n",
              "      <td>0.892733</td>\n",
              "    </tr>\n",
              "    <tr>\n",
              "      <th>10</th>\n",
              "      <td>20</td>\n",
              "      <td>0.870049</td>\n",
              "      <td>0.878268</td>\n",
              "    </tr>\n",
              "    <tr>\n",
              "      <th>11</th>\n",
              "      <td>30</td>\n",
              "      <td>0.864667</td>\n",
              "      <td>0.869810</td>\n",
              "    </tr>\n",
              "    <tr>\n",
              "      <th>12</th>\n",
              "      <td>40</td>\n",
              "      <td>0.860437</td>\n",
              "      <td>0.863226</td>\n",
              "    </tr>\n",
              "    <tr>\n",
              "      <th>13</th>\n",
              "      <td>50</td>\n",
              "      <td>0.854672</td>\n",
              "      <td>0.857507</td>\n",
              "    </tr>\n",
              "    <tr>\n",
              "      <th>14</th>\n",
              "      <td>60</td>\n",
              "      <td>0.847559</td>\n",
              "      <td>0.853230</td>\n",
              "    </tr>\n",
              "    <tr>\n",
              "      <th>15</th>\n",
              "      <td>70</td>\n",
              "      <td>0.843139</td>\n",
              "      <td>0.848568</td>\n",
              "    </tr>\n",
              "    <tr>\n",
              "      <th>16</th>\n",
              "      <td>80</td>\n",
              "      <td>0.841024</td>\n",
              "      <td>0.845348</td>\n",
              "    </tr>\n",
              "    <tr>\n",
              "      <th>17</th>\n",
              "      <td>90</td>\n",
              "      <td>0.837179</td>\n",
              "      <td>0.842080</td>\n",
              "    </tr>\n",
              "    <tr>\n",
              "      <th>18</th>\n",
              "      <td>100</td>\n",
              "      <td>0.834680</td>\n",
              "      <td>0.838428</td>\n",
              "    </tr>\n",
              "    <tr>\n",
              "      <th>19</th>\n",
              "      <td>100</td>\n",
              "      <td>0.834680</td>\n",
              "      <td>0.838428</td>\n",
              "    </tr>\n",
              "    <tr>\n",
              "      <th>20</th>\n",
              "      <td>500</td>\n",
              "      <td>0.727029</td>\n",
              "      <td>0.729046</td>\n",
              "    </tr>\n",
              "    <tr>\n",
              "      <th>21</th>\n",
              "      <td>900</td>\n",
              "      <td>0.657442</td>\n",
              "      <td>0.657871</td>\n",
              "    </tr>\n",
              "    <tr>\n",
              "      <th>22</th>\n",
              "      <td>1300</td>\n",
              "      <td>0.605156</td>\n",
              "      <td>0.605728</td>\n",
              "    </tr>\n",
              "    <tr>\n",
              "      <th>23</th>\n",
              "      <td>1700</td>\n",
              "      <td>0.563250</td>\n",
              "      <td>0.561610</td>\n",
              "    </tr>\n",
              "  </tbody>\n",
              "</table>\n",
              "</div>"
            ],
            "text/plain": [
              "   param_knn__n_neighbors  mean_test_score  mean_train_score\n",
              "0                       1         0.888124          1.000000\n",
              "1                       2         0.864861          0.914648\n",
              "2                       3         0.892928          0.934641\n",
              "3                       4         0.877741          0.906719\n",
              "4                       5         0.892158          0.919502\n",
              "5                       6         0.877547          0.901721\n",
              "6                       7         0.890812          0.911140\n",
              "7                       8         0.880047          0.898308\n",
              "8                       9         0.889081          0.904700\n",
              "9                      10         0.879662          0.892733\n",
              "10                     20         0.870049          0.878268\n",
              "11                     30         0.864667          0.869810\n",
              "12                     40         0.860437          0.863226\n",
              "13                     50         0.854672          0.857507\n",
              "14                     60         0.847559          0.853230\n",
              "15                     70         0.843139          0.848568\n",
              "16                     80         0.841024          0.845348\n",
              "17                     90         0.837179          0.842080\n",
              "18                    100         0.834680          0.838428\n",
              "19                    100         0.834680          0.838428\n",
              "20                    500         0.727029          0.729046\n",
              "21                    900         0.657442          0.657871\n",
              "22                   1300         0.605156          0.605728\n",
              "23                   1700         0.563250          0.561610"
            ]
          },
          "metadata": {
            "tags": []
          },
          "execution_count": 16
        }
      ]
    },
    {
      "cell_type": "markdown",
      "metadata": {
        "id": "V3U3XSkTsg3H"
      },
      "source": [
        "Fazendo o gráfico do valor da acurácia média obtida por número de vizinhos k considerados no algoritmo KNN, note como a acurácia média no fold de teste e também no fold de treino vai caindo a medida que o número de vizinhos cresce:"
      ]
    },
    {
      "cell_type": "code",
      "metadata": {
        "colab": {
          "base_uri": "https://localhost:8080/",
          "height": 301
        },
        "id": "cwe72NNWeoeH",
        "outputId": "d1127bf4-5957-4035-db0f-a70a449f8a20"
      },
      "source": [
        "df_knn = pd.DataFrame(grid_knn.cv_results_)[['param_knn__n_neighbors','mean_test_score','mean_train_score']]\n",
        "plt.plot('param_knn__n_neighbors', 'mean_train_score', data = df_knn, marker = 'o', \n",
        "         markerfacecolor = 'royalblue', markersize = 4, color = 'royalblue', linewidth = 1)\n",
        "plt.plot('param_knn__n_neighbors', 'mean_test_score', data = df_knn, marker = 'o', \n",
        "         markerfacecolor = 'tomato', markersize = 4, color = 'tomato', linewidth = 1)\n",
        "plt.legend()\n",
        "plt.title('Acurácia por número de vizinhos no knn em treino e teste', fontsize = 16)\n",
        "plt.xlabel('Número de vizinhos', fontsize = 12)\n",
        "plt.ylabel('Acurácia', fontsize = 12)\n",
        "axes = plt.gca()\n",
        "#axes.set_ylim([0,1.05])\n",
        "plt.show()"
      ],
      "execution_count": 17,
      "outputs": [
        {
          "output_type": "display_data",
          "data": {
            "image/png": "[encoded data removed]",
            "text/plain": [
              "<Figure size 432x288 with 1 Axes>"
            ]
          },
          "metadata": {
            "tags": [],
            "needs_background": "light"
          }
        }
      ]
    },
    {
      "cell_type": "markdown",
      "metadata": {
        "id": "BYrov570oNDU"
      },
      "source": [
        "A acurácia em cada um dos folds de teste na validação cruzada foram:"
      ]
    },
    {
      "cell_type": "code",
      "metadata": {
        "colab": {
          "base_uri": "https://localhost:8080/",
          "height": 80
        },
        "id": "AwNQQ33BoF_W",
        "outputId": "6e5c6879-c2e4-46b5-a72b-b84fe1744b2b"
      },
      "source": [
        "splits = ['split0_test_score', 'split1_test_score', 'split2_test_score', 'split3_test_score', 'split4_test_score']\n",
        "num_vizinhos = str(grid_knn.best_params_['knn__n_neighbors'])\n",
        "pd.DataFrame(grid_knn.cv_results_).query(\"param_knn__n_neighbors ==\" + num_vizinhos)[splits]"
      ],
      "execution_count": 18,
      "outputs": [
        {
          "output_type": "execute_result",
          "data": {
            "text/html": [
              "<div>\n",
              "<style scoped>\n",
              "    .dataframe tbody tr th:only-of-type {\n",
              "        vertical-align: middle;\n",
              "    }\n",
              "\n",
              "    .dataframe tbody tr th {\n",
              "        vertical-align: top;\n",
              "    }\n",
              "\n",
              "    .dataframe thead th {\n",
              "        text-align: right;\n",
              "    }\n",
              "</style>\n",
              "<table border=\"1\" class=\"dataframe\">\n",
              "  <thead>\n",
              "    <tr style=\"text-align: right;\">\n",
              "      <th></th>\n",
              "      <th>split0_test_score</th>\n",
              "      <th>split1_test_score</th>\n",
              "      <th>split2_test_score</th>\n",
              "      <th>split3_test_score</th>\n",
              "      <th>split4_test_score</th>\n",
              "    </tr>\n",
              "  </thead>\n",
              "  <tbody>\n",
              "    <tr>\n",
              "      <th>2</th>\n",
              "      <td>0.891451</td>\n",
              "      <td>0.880884</td>\n",
              "      <td>0.894231</td>\n",
              "      <td>0.893269</td>\n",
              "      <td>0.904808</td>\n",
              "    </tr>\n",
              "  </tbody>\n",
              "</table>\n",
              "</div>"
            ],
            "text/plain": [
              "   split0_test_score  split1_test_score  ...  split3_test_score  split4_test_score\n",
              "2           0.891451           0.880884  ...           0.893269           0.904808\n",
              "\n",
              "[1 rows x 5 columns]"
            ]
          },
          "metadata": {
            "tags": []
          },
          "execution_count": 18
        }
      ]
    },
    {
      "cell_type": "markdown",
      "metadata": {
        "id": "raSk16CyEvL3"
      },
      "source": [
        "# **Classificador SVM**\n",
        "\n",
        "O SVM foi um dos algoritmos que mais estudamos durante a disciplina até aqui. Esse é um classificador linear e aqui o objetivo é variar o hiperparâmetro kernel para verificar qual deles gera o melhor resultado no conjunto de teste por validação cruzada. O hiperparâmetro kernel quando não é o linear faz a transformação levando os dados para um novo espaço de dimensão mais alta e tentando fazer a separação linear por lá. Testaremos os 4 hiperparâmetros pedidos no trabalho: linear, polinomial, radial e sigmoid. Além disso, os outros hiperparâmetros como o C e o grau do polinômio para o kernel polinomial serão deixados no valor padrão (C = 1, grau polinômio = 3). Eu padronizei os dados colocando-os com média 0 e variância 1, pois percebi que isso diminui o tempo computacional. Assim como todos os outros algoritmos está sendo usado a validação cruzada com 5 folds."
      ]
    },
    {
      "cell_type": "code",
      "metadata": {
        "colab": {
          "base_uri": "https://localhost:8080/"
        },
        "id": "PV2TpxZxoSp2",
        "outputId": "46fe5404-3f77-4679-d9b1-882c63f6d7ec"
      },
      "source": [
        "# APROXIMADAMENTE 30 SEGUNDOS PARA EXECUTAR\n",
        "# criação do classificador a partir do algoritmo svm.\n",
        "classificador_svm = Pipeline(\n",
        "    steps = [('padronizacao covariaveis', StandardScaler()),\n",
        "             ('svm', SVC(probability = True))])\n",
        "\n",
        "# definindo os valores possíveis para o hiperparâmetro kernel.\n",
        "hiperparametros_svm = {'svm__kernel': ['linear', 'poly', 'rbf', 'sigmoid']}\n",
        "\n",
        "# criando o grid que irá testar todos esses possíveis funções de kernel e retornar\n",
        "# o melhor a partir da avaliação dos resultados através de validação cruzada.\n",
        "grid_svm = GridSearchCV(estimator = classificador_svm, param_grid = hiperparametros_svm, \n",
        "                        cv = StratifiedKFold(n_splits = 5, shuffle = True, random_state = 1313),\n",
        "                        n_jobs = -1, scoring = 'accuracy', return_train_score = True)\n",
        "\n",
        "# ajustando o algoritmo aos dados do nosso estudo\n",
        "grid_svm.fit(X = koi_data.drop(['koi_disposition'], axis = 1), y = koi_data['koi_disposition'])"
      ],
      "execution_count": 20,
      "outputs": [
        {
          "output_type": "execute_result",
          "data": {
            "text/plain": [
              "GridSearchCV(cv=StratifiedKFold(n_splits=5, random_state=1313, shuffle=True),\n",
              "             error_score=nan,\n",
              "             estimator=Pipeline(memory=None,\n",
              "                                steps=[('padronizacao covariaveis',\n",
              "                                        StandardScaler(copy=True,\n",
              "                                                       with_mean=True,\n",
              "                                                       with_std=True)),\n",
              "                                       ('svm',\n",
              "                                        SVC(C=1.0, break_ties=False,\n",
              "                                            cache_size=200, class_weight=None,\n",
              "                                            coef0=0.0,\n",
              "                                            decision_function_shape='ovr',\n",
              "                                            degree=3, gamma='scale',\n",
              "                                            kernel='rbf', max_iter=-1,\n",
              "                                            probability=True, random_state=None,\n",
              "                                            shrinking=True, tol=0.001,\n",
              "                                            verbose=False))],\n",
              "                                verbose=False),\n",
              "             iid='deprecated', n_jobs=-1,\n",
              "             param_grid={'svm__kernel': ['linear', 'poly', 'rbf', 'sigmoid']},\n",
              "             pre_dispatch='2*n_jobs', refit=True, return_train_score=True,\n",
              "             scoring='accuracy', verbose=0)"
            ]
          },
          "metadata": {
            "tags": []
          },
          "execution_count": 20
        }
      ]
    },
    {
      "cell_type": "code",
      "metadata": {
        "colab": {
          "base_uri": "https://localhost:8080/"
        },
        "id": "CedWilpBGkU6",
        "outputId": "9f436622-2217-400d-d8f8-419479d0832d"
      },
      "source": [
        "print(\"O SVM com kernel %s é o que obteve melhor acurácia média nos folds de teste durante ajuste. \\nO valor médio dessa acurácia foi de: %.4f\" \n",
        "      % (grid_svm.best_params_['svm__kernel'], grid_svm.best_score_))"
      ],
      "execution_count": 21,
      "outputs": [
        {
          "output_type": "stream",
          "text": [
            "O SVM com kernel linear é o que obteve melhor acurácia média nos folds de teste durante ajuste. \n",
            "O valor médio dessa acurácia foi de: 0.9531\n"
          ],
          "name": "stdout"
        }
      ]
    },
    {
      "cell_type": "markdown",
      "metadata": {
        "id": "Szv__RWDG00c"
      },
      "source": [
        "Resultados da acurácia média do SVM variando a função de kernel:"
      ]
    },
    {
      "cell_type": "code",
      "metadata": {
        "colab": {
          "base_uri": "https://localhost:8080/",
          "height": 173
        },
        "id": "qA0kyff1qxCp",
        "outputId": "6d861061-779b-4520-da6f-315432983a4f"
      },
      "source": [
        "pd.DataFrame(grid_svm.cv_results_)[['param_svm__kernel', 'mean_test_score', 'mean_train_score']]\n"
      ],
      "execution_count": 22,
      "outputs": [
        {
          "output_type": "execute_result",
          "data": {
            "text/html": [
              "<div>\n",
              "<style scoped>\n",
              "    .dataframe tbody tr th:only-of-type {\n",
              "        vertical-align: middle;\n",
              "    }\n",
              "\n",
              "    .dataframe tbody tr th {\n",
              "        vertical-align: top;\n",
              "    }\n",
              "\n",
              "    .dataframe thead th {\n",
              "        text-align: right;\n",
              "    }\n",
              "</style>\n",
              "<table border=\"1\" class=\"dataframe\">\n",
              "  <thead>\n",
              "    <tr style=\"text-align: right;\">\n",
              "      <th></th>\n",
              "      <th>param_svm__kernel</th>\n",
              "      <th>mean_test_score</th>\n",
              "      <th>mean_train_score</th>\n",
              "    </tr>\n",
              "  </thead>\n",
              "  <tbody>\n",
              "    <tr>\n",
              "      <th>0</th>\n",
              "      <td>linear</td>\n",
              "      <td>0.953096</td>\n",
              "      <td>0.955017</td>\n",
              "    </tr>\n",
              "    <tr>\n",
              "      <th>1</th>\n",
              "      <td>poly</td>\n",
              "      <td>0.881010</td>\n",
              "      <td>0.890618</td>\n",
              "    </tr>\n",
              "    <tr>\n",
              "      <th>2</th>\n",
              "      <td>rbf</td>\n",
              "      <td>0.937524</td>\n",
              "      <td>0.943147</td>\n",
              "    </tr>\n",
              "    <tr>\n",
              "      <th>3</th>\n",
              "      <td>sigmoid</td>\n",
              "      <td>0.822954</td>\n",
              "      <td>0.823529</td>\n",
              "    </tr>\n",
              "  </tbody>\n",
              "</table>\n",
              "</div>"
            ],
            "text/plain": [
              "  param_svm__kernel  mean_test_score  mean_train_score\n",
              "0            linear         0.953096          0.955017\n",
              "1              poly         0.881010          0.890618\n",
              "2               rbf         0.937524          0.943147\n",
              "3           sigmoid         0.822954          0.823529"
            ]
          },
          "metadata": {
            "tags": []
          },
          "execution_count": 22
        }
      ]
    },
    {
      "cell_type": "markdown",
      "metadata": {
        "id": "gQev3a3FHFGu"
      },
      "source": [
        "A acurácia em cada um dos folds de teste na validação cruzada foram:"
      ]
    },
    {
      "cell_type": "code",
      "metadata": {
        "colab": {
          "base_uri": "https://localhost:8080/",
          "height": 80
        },
        "id": "DeMby2WpsOq_",
        "outputId": "5c4c0301-61a7-4281-f299-4e45a6caba31"
      },
      "source": [
        "splits = ['split0_test_score', 'split1_test_score', 'split2_test_score', 'split3_test_score', 'split4_test_score']\n",
        "pd.DataFrame(grid_svm.cv_results_).query('param_svm__kernel == \"linear\"')[splits]"
      ],
      "execution_count": 23,
      "outputs": [
        {
          "output_type": "execute_result",
          "data": {
            "text/html": [
              "<div>\n",
              "<style scoped>\n",
              "    .dataframe tbody tr th:only-of-type {\n",
              "        vertical-align: middle;\n",
              "    }\n",
              "\n",
              "    .dataframe tbody tr th {\n",
              "        vertical-align: top;\n",
              "    }\n",
              "\n",
              "    .dataframe thead th {\n",
              "        text-align: right;\n",
              "    }\n",
              "</style>\n",
              "<table border=\"1\" class=\"dataframe\">\n",
              "  <thead>\n",
              "    <tr style=\"text-align: right;\">\n",
              "      <th></th>\n",
              "      <th>split0_test_score</th>\n",
              "      <th>split1_test_score</th>\n",
              "      <th>split2_test_score</th>\n",
              "      <th>split3_test_score</th>\n",
              "      <th>split4_test_score</th>\n",
              "    </tr>\n",
              "  </thead>\n",
              "  <tbody>\n",
              "    <tr>\n",
              "      <th>0</th>\n",
              "      <td>0.960615</td>\n",
              "      <td>0.942363</td>\n",
              "      <td>0.952885</td>\n",
              "      <td>0.953846</td>\n",
              "      <td>0.955769</td>\n",
              "    </tr>\n",
              "  </tbody>\n",
              "</table>\n",
              "</div>"
            ],
            "text/plain": [
              "   split0_test_score  split1_test_score  ...  split3_test_score  split4_test_score\n",
              "0           0.960615           0.942363  ...           0.953846           0.955769\n",
              "\n",
              "[1 rows x 5 columns]"
            ]
          },
          "metadata": {
            "tags": []
          },
          "execution_count": 23
        }
      ]
    },
    {
      "cell_type": "markdown",
      "metadata": {
        "id": "JYRNfy0Pvrjc"
      },
      "source": [
        "# **Classificador Floresta Aleatória**\n",
        "\n",
        "O próximo algoritmo a ser testado nos dados é a *Random Forest*, em português Floresta Aleatória. Esse é um método *ensemble* pois combina várias árvores de decisão através de uma técnica chamada *bagging*. Isso significa que é feito um *bootstrap* nos dados de treino em cada Árvore de Decisão e para cada uma delas é gerada uma predição. A predição final para cada observação em problemas de classificação é dada pela moda das predições para aquela observação em cada árvore. O hiperparâmetro a ser variado aqui é o número de árvores na floresta aleatória, chamado de *n_estimators* pelo sklearn. Um número pequeno de árvores, significa que a floresta será pequena e poucas árvores serão construídas para gerar as estimativas. Já se um número grande de árvores é solicitado, significa que a floresta será grande e muitas árvores serão construídas para gerar as estimativas. O critério para divisão dos nós que será usado é a entropia, que é o mesmo que usamos na Árvore de Decisão e o mesmo que usamos durante a aula. Assim como para o classificador da Árvore de Decisão, aqui não será padronizada as covariáveis porque não faz diferença para esse classificador. A profundidade de cada uma das árvores construídas será deixada como o valor padrão que é *None*, ou seja, as árvores dividiram os dados até que todas as folhas sejam puras ou até que todas as folhas tenham somente um número mínimo de observações, que por padrão da implementação do sklearn é 2."
      ]
    },
    {
      "cell_type": "code",
      "metadata": {
        "colab": {
          "base_uri": "https://localhost:8080/"
        },
        "id": "Wu0Er0YC1MFE",
        "outputId": "48bc4efb-c17b-4a21-e252-ee8caf86152e"
      },
      "source": [
        "# APROXIMADAMENTE 2 MINUTOS PARA EXECUTAR\n",
        "# criação do classificador a partir do algoritmo random forest.\n",
        "classificador_floresta_aleatoria = RandomForestClassifier(criterion = 'entropy')\n",
        "\n",
        "# definindo os valores possíveis para o hiperparâmetro número de árvores na floresta.\n",
        "hiperparametro_floresta_aleatoria = {'n_estimators': [1, 5, 10, 20, 30, 40, 50, 100, 200, 300, 400, 500]}\n",
        "\n",
        "# criando o grid que irá testar todos esses números de árvores da floresta e retornar\n",
        "# o melhor a partir da avaliação dos resultados através de validação cruzada.\n",
        "grid_floresta_aleatoria = GridSearchCV(estimator = classificador_floresta_aleatoria, \n",
        "                                       param_grid = hiperparametro_floresta_aleatoria, \n",
        "                                       cv = StratifiedKFold(n_splits = 5, shuffle = True, random_state = 1313), \n",
        "                                       n_jobs = -1, scoring = 'accuracy', return_train_score = True)\n",
        "\n",
        "# ajustando o algoritmo da floresta aleatória aos dados do nosso estudo\n",
        "grid_floresta_aleatoria.fit(X = koi_data.drop(['koi_disposition'], axis = 1), \n",
        "                            y = koi_data['koi_disposition'])"
      ],
      "execution_count": 24,
      "outputs": [
        {
          "output_type": "execute_result",
          "data": {
            "text/plain": [
              "GridSearchCV(cv=StratifiedKFold(n_splits=5, random_state=1313, shuffle=True),\n",
              "             error_score=nan,\n",
              "             estimator=RandomForestClassifier(bootstrap=True, ccp_alpha=0.0,\n",
              "                                              class_weight=None,\n",
              "                                              criterion='entropy',\n",
              "                                              max_depth=None,\n",
              "                                              max_features='auto',\n",
              "                                              max_leaf_nodes=None,\n",
              "                                              max_samples=None,\n",
              "                                              min_impurity_decrease=0.0,\n",
              "                                              min_impurity_split=None,\n",
              "                                              min_samples_leaf=1,\n",
              "                                              min_samples_split=2,\n",
              "                                              min_weight_fraction_leaf=0.0,\n",
              "                                              n_estimators=100, n_jobs=None,\n",
              "                                              oob_score=False,\n",
              "                                              random_state=None, verbose=0,\n",
              "                                              warm_start=False),\n",
              "             iid='deprecated', n_jobs=-1,\n",
              "             param_grid={'n_estimators': [1, 5, 10, 20, 30, 40, 50, 100, 200,\n",
              "                                          300, 400, 500]},\n",
              "             pre_dispatch='2*n_jobs', refit=True, return_train_score=True,\n",
              "             scoring='accuracy', verbose=0)"
            ]
          },
          "metadata": {
            "tags": []
          },
          "execution_count": 24
        }
      ]
    },
    {
      "cell_type": "code",
      "metadata": {
        "colab": {
          "base_uri": "https://localhost:8080/"
        },
        "id": "j7JqWRS52RCM",
        "outputId": "4441e6f4-52f3-4400-a101-ce0c6eee3f21"
      },
      "source": [
        "print(\"A Floresta Aleatória com %d árvores é a que obteve melhor acurácia média nos folds de teste durante ajuste. \\nO valor médio dessa acurácia foi de: %.4f\" \n",
        "      % (grid_floresta_aleatoria.best_params_['n_estimators'], grid_floresta_aleatoria.best_score_))"
      ],
      "execution_count": 25,
      "outputs": [
        {
          "output_type": "stream",
          "text": [
            "A Floresta Aleatória com 400 árvores é a que obteve melhor acurácia média nos folds de teste durante ajuste. \n",
            "O valor médio dessa acurácia foi de: 0.9723\n"
          ],
          "name": "stdout"
        }
      ]
    },
    {
      "cell_type": "markdown",
      "metadata": {
        "id": "-9dXbwgv2mcW"
      },
      "source": [
        "Resultados da acurácia média nos folds de teste durante ajuste da Floresta Aleatória variando o número de árvores na floresta:"
      ]
    },
    {
      "cell_type": "code",
      "metadata": {
        "colab": {
          "base_uri": "https://localhost:8080/",
          "height": 421
        },
        "id": "gLwinNsX9E75",
        "outputId": "4f638d2f-888c-4d91-a318-9033a7a14a82"
      },
      "source": [
        "pd.DataFrame(grid_floresta_aleatoria.cv_results_)[['param_n_estimators','mean_test_score','mean_train_score']]"
      ],
      "execution_count": 26,
      "outputs": [
        {
          "output_type": "execute_result",
          "data": {
            "text/html": [
              "<div>\n",
              "<style scoped>\n",
              "    .dataframe tbody tr th:only-of-type {\n",
              "        vertical-align: middle;\n",
              "    }\n",
              "\n",
              "    .dataframe tbody tr th {\n",
              "        vertical-align: top;\n",
              "    }\n",
              "\n",
              "    .dataframe thead th {\n",
              "        text-align: right;\n",
              "    }\n",
              "</style>\n",
              "<table border=\"1\" class=\"dataframe\">\n",
              "  <thead>\n",
              "    <tr style=\"text-align: right;\">\n",
              "      <th></th>\n",
              "      <th>param_n_estimators</th>\n",
              "      <th>mean_test_score</th>\n",
              "      <th>mean_train_score</th>\n",
              "    </tr>\n",
              "  </thead>\n",
              "  <tbody>\n",
              "    <tr>\n",
              "      <th>0</th>\n",
              "      <td>1</td>\n",
              "      <td>0.939640</td>\n",
              "      <td>0.974962</td>\n",
              "    </tr>\n",
              "    <tr>\n",
              "      <th>1</th>\n",
              "      <td>5</td>\n",
              "      <td>0.960208</td>\n",
              "      <td>0.995675</td>\n",
              "    </tr>\n",
              "    <tr>\n",
              "      <th>2</th>\n",
              "      <td>10</td>\n",
              "      <td>0.969629</td>\n",
              "      <td>0.997933</td>\n",
              "    </tr>\n",
              "    <tr>\n",
              "      <th>3</th>\n",
              "      <td>20</td>\n",
              "      <td>0.970975</td>\n",
              "      <td>0.999135</td>\n",
              "    </tr>\n",
              "    <tr>\n",
              "      <th>4</th>\n",
              "      <td>30</td>\n",
              "      <td>0.971550</td>\n",
              "      <td>0.999712</td>\n",
              "    </tr>\n",
              "    <tr>\n",
              "      <th>5</th>\n",
              "      <td>40</td>\n",
              "      <td>0.969629</td>\n",
              "      <td>0.999808</td>\n",
              "    </tr>\n",
              "    <tr>\n",
              "      <th>6</th>\n",
              "      <td>50</td>\n",
              "      <td>0.970782</td>\n",
              "      <td>0.999856</td>\n",
              "    </tr>\n",
              "    <tr>\n",
              "      <th>7</th>\n",
              "      <td>100</td>\n",
              "      <td>0.970205</td>\n",
              "      <td>0.999952</td>\n",
              "    </tr>\n",
              "    <tr>\n",
              "      <th>8</th>\n",
              "      <td>200</td>\n",
              "      <td>0.971551</td>\n",
              "      <td>1.000000</td>\n",
              "    </tr>\n",
              "    <tr>\n",
              "      <th>9</th>\n",
              "      <td>300</td>\n",
              "      <td>0.971167</td>\n",
              "      <td>1.000000</td>\n",
              "    </tr>\n",
              "    <tr>\n",
              "      <th>10</th>\n",
              "      <td>400</td>\n",
              "      <td>0.972320</td>\n",
              "      <td>1.000000</td>\n",
              "    </tr>\n",
              "    <tr>\n",
              "      <th>11</th>\n",
              "      <td>500</td>\n",
              "      <td>0.971359</td>\n",
              "      <td>1.000000</td>\n",
              "    </tr>\n",
              "  </tbody>\n",
              "</table>\n",
              "</div>"
            ],
            "text/plain": [
              "   param_n_estimators  mean_test_score  mean_train_score\n",
              "0                   1         0.939640          0.974962\n",
              "1                   5         0.960208          0.995675\n",
              "2                  10         0.969629          0.997933\n",
              "3                  20         0.970975          0.999135\n",
              "4                  30         0.971550          0.999712\n",
              "5                  40         0.969629          0.999808\n",
              "6                  50         0.970782          0.999856\n",
              "7                 100         0.970205          0.999952\n",
              "8                 200         0.971551          1.000000\n",
              "9                 300         0.971167          1.000000\n",
              "10                400         0.972320          1.000000\n",
              "11                500         0.971359          1.000000"
            ]
          },
          "metadata": {
            "tags": []
          },
          "execution_count": 26
        }
      ]
    },
    {
      "cell_type": "markdown",
      "metadata": {
        "id": "x84RgHnRA9uJ"
      },
      "source": [
        "A acurácia em cada um dos folds de teste da validação cruzada para a floresta com o melhor número de árvores testado é:"
      ]
    },
    {
      "cell_type": "code",
      "metadata": {
        "colab": {
          "base_uri": "https://localhost:8080/",
          "height": 80
        },
        "id": "vGnljOOjBH_f",
        "outputId": "cbf692fc-ed8f-46e1-92eb-59187b6dbe4b"
      },
      "source": [
        "splits = ['split0_test_score', 'split1_test_score', 'split2_test_score', 'split3_test_score', 'split4_test_score']\n",
        "num_arvores = str(grid_floresta_aleatoria.best_params_['n_estimators'])\n",
        "pd.DataFrame(grid_floresta_aleatoria.cv_results_).query('param_n_estimators ==' + num_arvores)[splits]"
      ],
      "execution_count": 27,
      "outputs": [
        {
          "output_type": "execute_result",
          "data": {
            "text/html": [
              "<div>\n",
              "<style scoped>\n",
              "    .dataframe tbody tr th:only-of-type {\n",
              "        vertical-align: middle;\n",
              "    }\n",
              "\n",
              "    .dataframe tbody tr th {\n",
              "        vertical-align: top;\n",
              "    }\n",
              "\n",
              "    .dataframe thead th {\n",
              "        text-align: right;\n",
              "    }\n",
              "</style>\n",
              "<table border=\"1\" class=\"dataframe\">\n",
              "  <thead>\n",
              "    <tr style=\"text-align: right;\">\n",
              "      <th></th>\n",
              "      <th>split0_test_score</th>\n",
              "      <th>split1_test_score</th>\n",
              "      <th>split2_test_score</th>\n",
              "      <th>split3_test_score</th>\n",
              "      <th>split4_test_score</th>\n",
              "    </tr>\n",
              "  </thead>\n",
              "  <tbody>\n",
              "    <tr>\n",
              "      <th>10</th>\n",
              "      <td>0.975024</td>\n",
              "      <td>0.961575</td>\n",
              "      <td>0.974038</td>\n",
              "      <td>0.971154</td>\n",
              "      <td>0.979808</td>\n",
              "    </tr>\n",
              "  </tbody>\n",
              "</table>\n",
              "</div>"
            ],
            "text/plain": [
              "    split0_test_score  split1_test_score  ...  split3_test_score  split4_test_score\n",
              "10           0.975024           0.961575  ...           0.971154           0.979808\n",
              "\n",
              "[1 rows x 5 columns]"
            ]
          },
          "metadata": {
            "tags": []
          },
          "execution_count": 27
        }
      ]
    },
    {
      "cell_type": "markdown",
      "metadata": {
        "id": "GSw4cYXc22_f"
      },
      "source": [
        "Fazendo o gráfico do valor da acurácia média obtida por número de árvores consideradas no algoritmo Floresta Aleatória, a acurácia média em teste é muito alta para valores pequenos de número de árvores, como 5 até para os maiores valores testados para esse hiperparâmetro."
      ]
    },
    {
      "cell_type": "code",
      "metadata": {
        "colab": {
          "base_uri": "https://localhost:8080/",
          "height": 301
        },
        "id": "Q64o5NeMBKa1",
        "outputId": "610d78be-b2db-491c-f776-32ee66d2cdb8"
      },
      "source": [
        "df_floresta_aleatoria = pd.DataFrame(grid_floresta_aleatoria.cv_results_)[['param_n_estimators','mean_test_score','mean_train_score']]\n",
        "plt.plot('param_n_estimators', 'mean_train_score', data = df_floresta_aleatoria, marker = 'o', \n",
        "         markerfacecolor = 'royalblue', markersize = 4, color = 'royalblue', linewidth = 1)\n",
        "plt.plot('param_n_estimators', 'mean_test_score', data = df_floresta_aleatoria, marker = 'o', \n",
        "         markerfacecolor = 'tomato', markersize = 4, color = 'tomato', linewidth = 1)\n",
        "plt.legend()\n",
        "plt.title('Acurácia por número de árvores de decisão na floresta aleatória em treino e teste', fontsize = 16)\n",
        "plt.xlabel('Número de árvores', fontsize = 12)\n",
        "plt.ylabel('Acurácia', fontsize = 12)\n",
        "axes = plt.gca()\n",
        "#axes.set_ylim([0,1.05])\n",
        "plt.show()"
      ],
      "execution_count": 28,
      "outputs": [
        {
          "output_type": "display_data",
          "data": {
            "image/png": "[encoded data removed]",
            "text/plain": [
              "<Figure size 432x288 with 1 Axes>"
            ]
          },
          "metadata": {
            "tags": [],
            "needs_background": "light"
          }
        }
      ]
    },
    {
      "cell_type": "markdown",
      "metadata": {
        "id": "VmGHwXeTmdu3"
      },
      "source": [
        "# **Classificador Gradient Tree Boosting**\n",
        "\n",
        "O último algoritmo a ser testado nos dados é a Gradiente Tree Boosting. Esse é um algoritmo que também usa de um método chamado ensemble pois ele combina as predições dadas por várias Árvores de Decisão através de uma técnica chamada boosting. Isso significa que várias Árvores de Decisão são construídas em sequência, onde a árvore sucessora tenta corrigir os erros de classificação da árvore anterior a ela. A predição final para cada observação em problemas de classificação é dada pela moda das predições para aquela observação em cada árvore do boosting. O hiperparâmetro a ser variado aqui é o número de iterações que serão feitas, chamado de *n_estimators* pelo sklearn. Um número pequeno de iterações, significa que serão usadas poucas árvores de decisão para corrigir uma a outra. Se um número grande de iteraçoes significa que serão usadas muitas Árvores de Decisão para corrigir uma a outra. A profundidade de cada uma dessas árvores será deixada no valor padrão do sklearn que é 3 e o número de covariáveis usadas em cada uma das árvores também será deixada no valor padrão que é todas as covariáveis.\n"
      ]
    },
    {
      "cell_type": "code",
      "metadata": {
        "colab": {
          "base_uri": "https://localhost:8080/"
        },
        "id": "QPhFrFW1UuI-",
        "outputId": "555b4dca-ee8a-4481-912f-26dfeced38bb"
      },
      "source": [
        "# APROXIMADAMENTE 2 MINUTOS PARA EXECUTAR\n",
        "# criação do classificador a partir do algoritmo gradient tree boosting.\n",
        "classificador_gtb = GradientBoostingClassifier()\n",
        "\n",
        "# definindo os valores possíveis para o hiperparâmetro número de iterações do algoritmo.\n",
        "hiperparametro_gtb = {'n_estimators': [1, 5, 10, 20, 30, 40, 50, 100, 200, 300, 400, 500]}\n",
        "\n",
        "# criando o grid que irá testar todos esses números de árvores do Gradient Tree Boosting e retornar\n",
        "# o melhor a partir da avaliação dos resultados através de validação cruzada.\n",
        "grid_gtb = GridSearchCV(estimator = classificador_floresta_aleatoria, \n",
        "                        param_grid = hiperparametro_gtb, \n",
        "                        cv = StratifiedKFold(n_splits = 5, shuffle = True, random_state = 1313),\n",
        "                        n_jobs = -1, scoring = 'accuracy', return_train_score = True)\n",
        "\n",
        "# ajustando o algoritmo da floresta aleatória aos dados do nosso estudo\n",
        "grid_gtb.fit(X = koi_data.drop(['koi_disposition'], axis = 1), \n",
        "             y = koi_data['koi_disposition'])"
      ],
      "execution_count": 29,
      "outputs": [
        {
          "output_type": "execute_result",
          "data": {
            "text/plain": [
              "GridSearchCV(cv=StratifiedKFold(n_splits=5, random_state=1313, shuffle=True),\n",
              "             error_score=nan,\n",
              "             estimator=RandomForestClassifier(bootstrap=True, ccp_alpha=0.0,\n",
              "                                              class_weight=None,\n",
              "                                              criterion='entropy',\n",
              "                                              max_depth=None,\n",
              "                                              max_features='auto',\n",
              "                                              max_leaf_nodes=None,\n",
              "                                              max_samples=None,\n",
              "                                              min_impurity_decrease=0.0,\n",
              "                                              min_impurity_split=None,\n",
              "                                              min_samples_leaf=1,\n",
              "                                              min_samples_split=2,\n",
              "                                              min_weight_fraction_leaf=0.0,\n",
              "                                              n_estimators=100, n_jobs=None,\n",
              "                                              oob_score=False,\n",
              "                                              random_state=None, verbose=0,\n",
              "                                              warm_start=False),\n",
              "             iid='deprecated', n_jobs=-1,\n",
              "             param_grid={'n_estimators': [1, 5, 10, 20, 30, 40, 50, 100, 200,\n",
              "                                          300, 400, 500]},\n",
              "             pre_dispatch='2*n_jobs', refit=True, return_train_score=True,\n",
              "             scoring='accuracy', verbose=0)"
            ]
          },
          "metadata": {
            "tags": []
          },
          "execution_count": 29
        }
      ]
    },
    {
      "cell_type": "code",
      "metadata": {
        "colab": {
          "base_uri": "https://localhost:8080/"
        },
        "id": "Kc7yRV7jw-ZY",
        "outputId": "4fde20e1-2e2e-412c-aacf-69cd7660fc41"
      },
      "source": [
        "print(\"O Gradient Tree Boosting com %d iterações é o que obteve melhor acurácia média nos folds de teste durante ajuste. \\nO valor médio dessa acurácia foi de: %.4f\" \n",
        "      % (grid_gtb.best_params_['n_estimators'], grid_gtb.best_score_))"
      ],
      "execution_count": 30,
      "outputs": [
        {
          "output_type": "stream",
          "text": [
            "O Gradient Tree Boosting com 400 iterações é o que obteve melhor acurácia média nos folds de teste durante ajuste. \n",
            "O valor médio dessa acurácia foi de: 0.9723\n"
          ],
          "name": "stdout"
        }
      ]
    },
    {
      "cell_type": "markdown",
      "metadata": {
        "id": "57dbLX63xPB7"
      },
      "source": [
        "Resultados da acurácia média nos folds de teste da validação cruzada do Gradient Tree Boosting variando o número de iterações do algoritmo:"
      ]
    },
    {
      "cell_type": "code",
      "metadata": {
        "colab": {
          "base_uri": "https://localhost:8080/",
          "height": 421
        },
        "id": "nH-1KnnWxZ0I",
        "outputId": "5435c640-5aeb-4565-cdb5-66b9c7d1d8dd"
      },
      "source": [
        "pd.DataFrame(grid_gtb.cv_results_)[['param_n_estimators','mean_test_score','mean_train_score']]"
      ],
      "execution_count": 31,
      "outputs": [
        {
          "output_type": "execute_result",
          "data": {
            "text/html": [
              "<div>\n",
              "<style scoped>\n",
              "    .dataframe tbody tr th:only-of-type {\n",
              "        vertical-align: middle;\n",
              "    }\n",
              "\n",
              "    .dataframe tbody tr th {\n",
              "        vertical-align: top;\n",
              "    }\n",
              "\n",
              "    .dataframe thead th {\n",
              "        text-align: right;\n",
              "    }\n",
              "</style>\n",
              "<table border=\"1\" class=\"dataframe\">\n",
              "  <thead>\n",
              "    <tr style=\"text-align: right;\">\n",
              "      <th></th>\n",
              "      <th>param_n_estimators</th>\n",
              "      <th>mean_test_score</th>\n",
              "      <th>mean_train_score</th>\n",
              "    </tr>\n",
              "  </thead>\n",
              "  <tbody>\n",
              "    <tr>\n",
              "      <th>0</th>\n",
              "      <td>1</td>\n",
              "      <td>0.935029</td>\n",
              "      <td>0.975490</td>\n",
              "    </tr>\n",
              "    <tr>\n",
              "      <th>1</th>\n",
              "      <td>5</td>\n",
              "      <td>0.962516</td>\n",
              "      <td>0.995627</td>\n",
              "    </tr>\n",
              "    <tr>\n",
              "      <th>2</th>\n",
              "      <td>10</td>\n",
              "      <td>0.963862</td>\n",
              "      <td>0.997405</td>\n",
              "    </tr>\n",
              "    <tr>\n",
              "      <th>3</th>\n",
              "      <td>20</td>\n",
              "      <td>0.970205</td>\n",
              "      <td>0.999231</td>\n",
              "    </tr>\n",
              "    <tr>\n",
              "      <th>4</th>\n",
              "      <td>30</td>\n",
              "      <td>0.969628</td>\n",
              "      <td>0.999808</td>\n",
              "    </tr>\n",
              "    <tr>\n",
              "      <th>5</th>\n",
              "      <td>40</td>\n",
              "      <td>0.968860</td>\n",
              "      <td>0.999760</td>\n",
              "    </tr>\n",
              "    <tr>\n",
              "      <th>6</th>\n",
              "      <td>50</td>\n",
              "      <td>0.968860</td>\n",
              "      <td>0.999952</td>\n",
              "    </tr>\n",
              "    <tr>\n",
              "      <th>7</th>\n",
              "      <td>100</td>\n",
              "      <td>0.971743</td>\n",
              "      <td>1.000000</td>\n",
              "    </tr>\n",
              "    <tr>\n",
              "      <th>8</th>\n",
              "      <td>200</td>\n",
              "      <td>0.970590</td>\n",
              "      <td>1.000000</td>\n",
              "    </tr>\n",
              "    <tr>\n",
              "      <th>9</th>\n",
              "      <td>300</td>\n",
              "      <td>0.970975</td>\n",
              "      <td>1.000000</td>\n",
              "    </tr>\n",
              "    <tr>\n",
              "      <th>10</th>\n",
              "      <td>400</td>\n",
              "      <td>0.972320</td>\n",
              "      <td>1.000000</td>\n",
              "    </tr>\n",
              "    <tr>\n",
              "      <th>11</th>\n",
              "      <td>500</td>\n",
              "      <td>0.971936</td>\n",
              "      <td>1.000000</td>\n",
              "    </tr>\n",
              "  </tbody>\n",
              "</table>\n",
              "</div>"
            ],
            "text/plain": [
              "   param_n_estimators  mean_test_score  mean_train_score\n",
              "0                   1         0.935029          0.975490\n",
              "1                   5         0.962516          0.995627\n",
              "2                  10         0.963862          0.997405\n",
              "3                  20         0.970205          0.999231\n",
              "4                  30         0.969628          0.999808\n",
              "5                  40         0.968860          0.999760\n",
              "6                  50         0.968860          0.999952\n",
              "7                 100         0.971743          1.000000\n",
              "8                 200         0.970590          1.000000\n",
              "9                 300         0.970975          1.000000\n",
              "10                400         0.972320          1.000000\n",
              "11                500         0.971936          1.000000"
            ]
          },
          "metadata": {
            "tags": []
          },
          "execution_count": 31
        }
      ]
    },
    {
      "cell_type": "markdown",
      "metadata": {
        "id": "yme0HhdayEY1"
      },
      "source": [
        "A acurácia em cada um dos folds de teste da validação cruzada para o Gradient Tree Boosting com o melhor número de iterações testado é:"
      ]
    },
    {
      "cell_type": "code",
      "metadata": {
        "colab": {
          "base_uri": "https://localhost:8080/",
          "height": 80
        },
        "id": "Oq302-_5yKil",
        "outputId": "32bd1ed4-560c-4cd9-d279-ee46f0813062"
      },
      "source": [
        "splits = ['split0_test_score', 'split1_test_score', 'split2_test_score', 'split3_test_score', 'split4_test_score']\n",
        "num_estimators = str(grid_gtb.best_params_['n_estimators'])\n",
        "pd.DataFrame(grid_gtb.cv_results_).query('param_n_estimators == ' + num_estimators)[splits]"
      ],
      "execution_count": 32,
      "outputs": [
        {
          "output_type": "execute_result",
          "data": {
            "text/html": [
              "<div>\n",
              "<style scoped>\n",
              "    .dataframe tbody tr th:only-of-type {\n",
              "        vertical-align: middle;\n",
              "    }\n",
              "\n",
              "    .dataframe tbody tr th {\n",
              "        vertical-align: top;\n",
              "    }\n",
              "\n",
              "    .dataframe thead th {\n",
              "        text-align: right;\n",
              "    }\n",
              "</style>\n",
              "<table border=\"1\" class=\"dataframe\">\n",
              "  <thead>\n",
              "    <tr style=\"text-align: right;\">\n",
              "      <th></th>\n",
              "      <th>split0_test_score</th>\n",
              "      <th>split1_test_score</th>\n",
              "      <th>split2_test_score</th>\n",
              "      <th>split3_test_score</th>\n",
              "      <th>split4_test_score</th>\n",
              "    </tr>\n",
              "  </thead>\n",
              "  <tbody>\n",
              "    <tr>\n",
              "      <th>10</th>\n",
              "      <td>0.973103</td>\n",
              "      <td>0.962536</td>\n",
              "      <td>0.972115</td>\n",
              "      <td>0.972115</td>\n",
              "      <td>0.981731</td>\n",
              "    </tr>\n",
              "  </tbody>\n",
              "</table>\n",
              "</div>"
            ],
            "text/plain": [
              "    split0_test_score  split1_test_score  ...  split3_test_score  split4_test_score\n",
              "10           0.973103           0.962536  ...           0.972115           0.981731\n",
              "\n",
              "[1 rows x 5 columns]"
            ]
          },
          "metadata": {
            "tags": []
          },
          "execution_count": 32
        }
      ]
    },
    {
      "cell_type": "markdown",
      "metadata": {
        "id": "zA4ZhsK9yYTL"
      },
      "source": [
        "Fazendo o gráfico do valor da acurácia média obtida por número de iterações consideradas no algoritmo Gradient Tree Boosting."
      ]
    },
    {
      "cell_type": "code",
      "metadata": {
        "colab": {
          "base_uri": "https://localhost:8080/",
          "height": 301
        },
        "id": "vbQUPJ_6ySo6",
        "outputId": "3b416e21-3472-40e5-de56-cb1d2431cfbb"
      },
      "source": [
        "df_gtb = pd.DataFrame(grid_gtb.cv_results_)[['param_n_estimators','mean_test_score','mean_train_score']]\n",
        "plt.plot('param_n_estimators', 'mean_train_score', data = df_gtb, marker = 'o', \n",
        "         markerfacecolor = 'royalblue', markersize = 4, color = 'royalblue', linewidth = 1)\n",
        "plt.plot('param_n_estimators', 'mean_test_score', data = df_gtb, marker = 'o', \n",
        "         markerfacecolor = 'tomato', markersize = 4, color = 'tomato', linewidth = 1)\n",
        "plt.legend()\n",
        "plt.title('Acurácia por número de iterações no Gradient Tree Boosting em treino e teste', fontsize = 16)\n",
        "plt.xlabel('Número de iterações', fontsize = 12)\n",
        "plt.ylabel('Acurácia', fontsize = 12)\n",
        "axes = plt.gca()\n",
        "#axes.set_ylim([0,1.05])\n",
        "plt.show()"
      ],
      "execution_count": 33,
      "outputs": [
        {
          "output_type": "display_data",
          "data": {
            "image/png": "[encoded data removed]",
            "text/plain": [
              "<Figure size 432x288 with 1 Axes>"
            ]
          },
          "metadata": {
            "tags": [],
            "needs_background": "light"
          }
        }
      ]
    },
    {
      "cell_type": "markdown",
      "metadata": {
        "id": "q7wbslUPpVSD"
      },
      "source": [
        "# **Comparação dos classificadores**\n",
        "\n",
        "Por fim vamos comparar os classificadores gerados através das métricas de precisão, também conhecida como sensibilidade e Recall que é a taxa das estimativas certas do classificador entre os casos positivos do conjunto de dados. Além disso também usaremos a curva ROC que é usada para encontrar o treshold (patamar de corte) entre uma categoria e outra, mas aqui o foco será verificar a área deixada por ela sob a curva gerada pelos classificadores, quanto maior melhor. Os classificadores analisados são aqueles construídos anteriormente com os melhores valores de hiperparâmetro verificados na validação cruzada."
      ]
    },
    {
      "cell_type": "code",
      "metadata": {
        "colab": {
          "base_uri": "https://localhost:8080/",
          "height": 1000
        },
        "id": "gvGjsyN3Zp2L",
        "outputId": "d4f41137-69e2-483d-bbc9-cf5c75b68143"
      },
      "source": [
        "nome_classificador = ['Naive Bayes', 'Árvore de Decisão', 'KNN', 'SVM', 'Floresta Aleatória', 'Gradient Tree Boosting']\n",
        "classificador = [grid_naive_bayes, grid_arvore_decisao, grid_knn, grid_svm, grid_floresta_aleatoria, grid_gtb]\n",
        "cores_linhas = ['pink', 'royalblue', 'green', 'gold', 'gray', 'purple']\n",
        "\n",
        "for i in range(len(classificador)):\n",
        "  precisao = metrics.precision_score(y_true = koi_data['koi_disposition'], \n",
        "                                     y_pred = classificador[i].predict(koi_data.drop(['koi_disposition'], axis = 1)), \n",
        "                                     pos_label = 'CONFIRMED')               \n",
        "\n",
        "  recall = metrics.recall_score(y_true = koi_data['koi_disposition'], \n",
        "                                y_pred = classificador[i].predict(koi_data.drop(['koi_disposition'], axis = 1)), \n",
        "                                pos_label = 'CONFIRMED')\n",
        "  \n",
        "  print('______________________________________________________________\\n')\n",
        "  print(\"%s\\nEsse classificador tem acurácia esperada em novos dados de aproximadamente %.4f. \\\n",
        "  \\nIsso significa que em mais objetos candidatos a exoplanetas, esse classificador identificará a disposição exatas dos objetos em %.2f%% dos casos.\" \n",
        "        %(nome_classificador[i], classificador[i].best_score_, 100*classificador[i].best_score_))\n",
        "  print(\"A precisão do classificador nos dados de treino foi de %.4f, ou seja, das observações do treino que esse classificador estimou como exoplanetas, %.2f%% realmente eram.\" \n",
        "        %(precisao, 100*precisao))\n",
        "  print(\"O recall do classificador nos dados de treino foi de %.4f, ou seja, %.2f%% dos exoplanetas dos dados de treino foram classificados corretamente.\" \n",
        "        %(recall, 100*recall))\n",
        "\n",
        "  fpr, tpr, threshold = metrics.roc_curve(y_true = koi_data['koi_disposition'], \n",
        "                                          y_score = classificador[i].predict_proba(koi_data.drop(['koi_disposition'], axis = 1))[:,0], \n",
        "                                          pos_label = 'CONFIRMED')\n",
        "  roc_auc = metrics.auc(fpr, tpr)\n",
        "  plt.title('Curva ROC')\n",
        "  plt.plot(fpr, tpr, 'b', label = 'AUC %s = %0.2f' % (nome_classificador[i], roc_auc), color = cores_linhas[i])\n",
        "  plt.legend(loc = 'lower right')\n",
        "  plt.plot([0, 1], [0, 1], 'r--')\n",
        "  plt.xlim([-0.05, 1.05]) # deixando uma folga nos eixos para melhor visualização dos gráficos\n",
        "  plt.ylim([-0.05, 1.05]) # deixando uma folga nos eixos para melhor visualização dos gráficos\n",
        "  plt.ylabel('Sensibilidade')\n",
        "  plt.xlabel('1-Especificidade')\n",
        "  plt.show()\n",
        "\n",
        "\n"
      ],
      "execution_count": 39,
      "outputs": [
        {
          "output_type": "stream",
          "text": [
            "______________________________________________________________\n",
            "\n",
            "Naive Bayes\n",
            "Esse classificador tem acurácia esperada em novos dados de aproximadamente 0.9170.   \n",
            "Isso significa que em mais objetos candidatos a exoplanetas, esse classificador identificará a disposição exatas dos objetos em 91.70% dos casos.\n",
            "A precisão do classificador nos dados de treino foi de 0.8425, ou seja, das observações do treino que esse classificador estimou como exoplanetas, 84.25% realmente eram.\n",
            "O recall do classificador nos dados de treino foi de 0.9734, ou seja, 97.34% dos exoplanetas dos dados de treino foram classificados corretamente.\n"
          ],
          "name": "stdout"
        },
        {
          "output_type": "display_data",
          "data": {
            "image/png": "[encoded data removed]",
            "text/plain": [
              "<Figure size 432x288 with 1 Axes>"
            ]
          },
          "metadata": {
            "tags": [],
            "needs_background": "light"
          }
        },
        {
          "output_type": "stream",
          "text": [
            "______________________________________________________________\n",
            "\n",
            "Árvore de Decisão\n",
            "Esse classificador tem acurácia esperada em novos dados de aproximadamente 0.9504.   \n",
            "Isso significa que em mais objetos candidatos a exoplanetas, esse classificador identificará a disposição exatas dos objetos em 95.04% dos casos.\n",
            "A precisão do classificador nos dados de treino foi de 1.0000, ou seja, das observações do treino que esse classificador estimou como exoplanetas, 100.00% realmente eram.\n",
            "O recall do classificador nos dados de treino foi de 1.0000, ou seja, 100.00% dos exoplanetas dos dados de treino foram classificados corretamente.\n"
          ],
          "name": "stdout"
        },
        {
          "output_type": "display_data",
          "data": {
            "image/png": "[encoded data removed]",
            "text/plain": [
              "<Figure size 432x288 with 1 Axes>"
            ]
          },
          "metadata": {
            "tags": [],
            "needs_background": "light"
          }
        },
        {
          "output_type": "stream",
          "text": [
            "______________________________________________________________\n",
            "\n",
            "KNN\n",
            "Esse classificador tem acurácia esperada em novos dados de aproximadamente 0.8929.   \n",
            "Isso significa que em mais objetos candidatos a exoplanetas, esse classificador identificará a disposição exatas dos objetos em 89.29% dos casos.\n",
            "A precisão do classificador nos dados de treino foi de 0.8797, ou seja, das observações do treino que esse classificador estimou como exoplanetas, 87.97% realmente eram.\n",
            "O recall do classificador nos dados de treino foi de 0.9767, ou seja, 97.67% dos exoplanetas dos dados de treino foram classificados corretamente.\n"
          ],
          "name": "stdout"
        },
        {
          "output_type": "display_data",
          "data": {
            "image/png": "[encoded data removed]",
            "text/plain": [
              "<Figure size 432x288 with 1 Axes>"
            ]
          },
          "metadata": {
            "tags": [],
            "needs_background": "light"
          }
        },
        {
          "output_type": "stream",
          "text": [
            "______________________________________________________________\n",
            "\n",
            "SVM\n",
            "Esse classificador tem acurácia esperada em novos dados de aproximadamente 0.9531.   \n",
            "Isso significa que em mais objetos candidatos a exoplanetas, esse classificador identificará a disposição exatas dos objetos em 95.31% dos casos.\n",
            "A precisão do classificador nos dados de treino foi de 0.9291, ou seja, das observações do treino que esse classificador estimou como exoplanetas, 92.91% realmente eram.\n",
            "O recall do classificador nos dados de treino foi de 0.9648, ou seja, 96.48% dos exoplanetas dos dados de treino foram classificados corretamente.\n"
          ],
          "name": "stdout"
        },
        {
          "output_type": "display_data",
          "data": {
            "image/png": "[encoded data removed]",
            "text/plain": [
              "<Figure size 432x288 with 1 Axes>"
            ]
          },
          "metadata": {
            "tags": [],
            "needs_background": "light"
          }
        },
        {
          "output_type": "stream",
          "text": [
            "______________________________________________________________\n",
            "\n",
            "Floresta Aleatória\n",
            "Esse classificador tem acurácia esperada em novos dados de aproximadamente 0.9723.   \n",
            "Isso significa que em mais objetos candidatos a exoplanetas, esse classificador identificará a disposição exatas dos objetos em 97.23% dos casos.\n",
            "A precisão do classificador nos dados de treino foi de 1.0000, ou seja, das observações do treino que esse classificador estimou como exoplanetas, 100.00% realmente eram.\n",
            "O recall do classificador nos dados de treino foi de 1.0000, ou seja, 100.00% dos exoplanetas dos dados de treino foram classificados corretamente.\n"
          ],
          "name": "stdout"
        },
        {
          "output_type": "display_data",
          "data": {
            "image/png": "[encoded data removed]",
            "text/plain": [
              "<Figure size 432x288 with 1 Axes>"
            ]
          },
          "metadata": {
            "tags": [],
            "needs_background": "light"
          }
        },
        {
          "output_type": "stream",
          "text": [
            "______________________________________________________________\n",
            "\n",
            "Gradient Tree Boosting\n",
            "Esse classificador tem acurácia esperada em novos dados de aproximadamente 0.9723.   \n",
            "Isso significa que em mais objetos candidatos a exoplanetas, esse classificador identificará a disposição exatas dos objetos em 97.23% dos casos.\n",
            "A precisão do classificador nos dados de treino foi de 1.0000, ou seja, das observações do treino que esse classificador estimou como exoplanetas, 100.00% realmente eram.\n",
            "O recall do classificador nos dados de treino foi de 1.0000, ou seja, 100.00% dos exoplanetas dos dados de treino foram classificados corretamente.\n"
          ],
          "name": "stdout"
        },
        {
          "output_type": "display_data",
          "data": {
            "image/png": "[encoded data removed]",
            "text/plain": [
              "<Figure size 432x288 with 1 Axes>"
            ]
          },
          "metadata": {
            "tags": [],
            "needs_background": "light"
          }
        }
      ]
    },
    {
      "cell_type": "markdown",
      "metadata": {
        "id": "zQUUDEbh4g-s"
      },
      "source": [
        "Abaixo há uma tabela resumindo os algoritmos testados e os hiperparâmetros que apresentaram melhor resultado no conjunto de dados, juntamente com a acurácia média nos folds de teste na validação cruzada."
      ]
    },
    {
      "cell_type": "code",
      "metadata": {
        "colab": {
          "base_uri": "https://localhost:8080/",
          "height": 235
        },
        "id": "2LrqjE3322Ly",
        "outputId": "29a6eff3-7666-4438-83ab-7f765e273864"
      },
      "source": [
        "pd.DataFrame({'classificador': ['Naive Bayes', 'Árvore de Decisão', 'KNN', 'SVM', 'Floresta Aleatória', 'Gradient Tree Boosting'], \n",
        "              'hiperparâmetro': [None, grid_arvore_decisao.best_params_, grid_knn.best_params_, grid_svm.best_params_, grid_floresta_aleatoria.best_params_, grid_gtb.best_params_],\n",
        "              'acuracia_esperada': [grid_naive_bayes.best_score_, grid_arvore_decisao.best_score_, grid_knn.best_score_, grid_svm.best_score_, grid_floresta_aleatoria.best_score_, grid_gtb.best_score_]})\n"
      ],
      "execution_count": 41,
      "outputs": [
        {
          "output_type": "execute_result",
          "data": {
            "text/html": [
              "<div>\n",
              "<style scoped>\n",
              "    .dataframe tbody tr th:only-of-type {\n",
              "        vertical-align: middle;\n",
              "    }\n",
              "\n",
              "    .dataframe tbody tr th {\n",
              "        vertical-align: top;\n",
              "    }\n",
              "\n",
              "    .dataframe thead th {\n",
              "        text-align: right;\n",
              "    }\n",
              "</style>\n",
              "<table border=\"1\" class=\"dataframe\">\n",
              "  <thead>\n",
              "    <tr style=\"text-align: right;\">\n",
              "      <th></th>\n",
              "      <th>classificador</th>\n",
              "      <th>hiperparâmetro</th>\n",
              "      <th>acuracia_esperada</th>\n",
              "    </tr>\n",
              "  </thead>\n",
              "  <tbody>\n",
              "    <tr>\n",
              "      <th>0</th>\n",
              "      <td>Naive Bayes</td>\n",
              "      <td>None</td>\n",
              "      <td>0.916955</td>\n",
              "    </tr>\n",
              "    <tr>\n",
              "      <th>1</th>\n",
              "      <td>Árvore de Decisão</td>\n",
              "      <td>{'max_depth': 20}</td>\n",
              "      <td>0.950405</td>\n",
              "    </tr>\n",
              "    <tr>\n",
              "      <th>2</th>\n",
              "      <td>KNN</td>\n",
              "      <td>{'knn__n_neighbors': 3}</td>\n",
              "      <td>0.892928</td>\n",
              "    </tr>\n",
              "    <tr>\n",
              "      <th>3</th>\n",
              "      <td>SVM</td>\n",
              "      <td>{'svm__kernel': 'linear'}</td>\n",
              "      <td>0.953096</td>\n",
              "    </tr>\n",
              "    <tr>\n",
              "      <th>4</th>\n",
              "      <td>Floresta Aleatória</td>\n",
              "      <td>{'n_estimators': 400}</td>\n",
              "      <td>0.972320</td>\n",
              "    </tr>\n",
              "    <tr>\n",
              "      <th>5</th>\n",
              "      <td>Gradient Tree Boosting</td>\n",
              "      <td>{'n_estimators': 400}</td>\n",
              "      <td>0.972320</td>\n",
              "    </tr>\n",
              "  </tbody>\n",
              "</table>\n",
              "</div>"
            ],
            "text/plain": [
              "            classificador             hiperparâmetro  acuracia_esperada\n",
              "0             Naive Bayes                       None           0.916955\n",
              "1       Árvore de Decisão          {'max_depth': 20}           0.950405\n",
              "2                     KNN    {'knn__n_neighbors': 3}           0.892928\n",
              "3                     SVM  {'svm__kernel': 'linear'}           0.953096\n",
              "4      Floresta Aleatória      {'n_estimators': 400}           0.972320\n",
              "5  Gradient Tree Boosting      {'n_estimators': 400}           0.972320"
            ]
          },
          "metadata": {
            "tags": []
          },
          "execution_count": 41
        }
      ]
    },
    {
      "cell_type": "markdown",
      "metadata": {
        "id": "iGV5Rr2Vz3oO"
      },
      "source": [
        "# **Conclusões finais**\n",
        "\n",
        "Aqui foi feito um trabalho para a disciplina de Aprendizado de Máquina, cujo o objetivo foi avaliar algoritmos de aprendizagem na classificação de exoplanetas. Foram feitos 6 classificadores: Naive Bayes, Árvore de Decisão, KNN, SVM, Floresta Aleatória e Gradient Tree Boosting, sendo o primeiro deles somente um caso base e os dois últimos métodos ensemble. Foi usada validação cruzada com 5 partições nos dados de treino, onde cada classificador foi treinado 5 vezes, sempre variando a partição de teste, ou seja, usando 4 das partições como dados de treino e a partição restante como dados de teste.\n",
        "\n",
        "Como vimos em aula, a estimativa de erro dada pela validação cruzada (e consequentemente a estimativa de acertos) é uma boa aproximação do erro esperado. A partir disso, pode ser notado nesse trabalho que os métodos ensemble geraram estimativas superiores aos outros métodos. A árvore de decisão e o SVM com kernel linear também performaram muito bem e acredito eu que buscando melhores valores para outros hiperparâmetros, poderíamos chegar em resultados ainda melhores para esses classificadores. Os classificadores que tiveram taxas de erros estimadas mais altas foram o Naive Bayes e o KNN."
      ]
    }
  ]
}